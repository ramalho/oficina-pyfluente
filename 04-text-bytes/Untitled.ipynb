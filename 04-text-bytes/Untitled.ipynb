{
 "cells": [
  {
   "cell_type": "code",
   "execution_count": 1,
   "id": "41fcf09f-69cd-4431-b9e3-8a3f93ff9659",
   "metadata": {},
   "outputs": [
    {
     "data": {
      "text/plain": [
       "4"
      ]
     },
     "execution_count": 1,
     "metadata": {},
     "output_type": "execute_result"
    }
   ],
   "source": [
    "s = 'café'\n",
    "len(s)"
   ]
  },
  {
   "cell_type": "code",
   "execution_count": 2,
   "id": "2e9ad5d5-16b8-4192-8872-9a93265d8bc7",
   "metadata": {},
   "outputs": [
    {
     "data": {
      "text/plain": [
       "b'caf\\xc3\\xa9'"
      ]
     },
     "execution_count": 2,
     "metadata": {},
     "output_type": "execute_result"
    }
   ],
   "source": [
    "b = s.encode('utf-8')\n",
    "b"
   ]
  },
  {
   "cell_type": "code",
   "execution_count": 3,
   "id": "ffab5812-33da-46a8-beea-2d9e93855ed2",
   "metadata": {},
   "outputs": [
    {
     "name": "stdout",
     "output_type": "stream",
     "text": [
      "99\n",
      "97\n",
      "102\n",
      "195\n",
      "169\n"
     ]
    }
   ],
   "source": [
    "for x in b: print(x)"
   ]
  },
  {
   "cell_type": "code",
   "execution_count": 4,
   "id": "69b90d7f-6fc1-48b8-a0e7-718d76c840a1",
   "metadata": {},
   "outputs": [
    {
     "data": {
      "text/plain": [
       "[99, 97, 102, 195, 169]"
      ]
     },
     "execution_count": 4,
     "metadata": {},
     "output_type": "execute_result"
    }
   ],
   "source": [
    "list(b)"
   ]
  },
  {
   "cell_type": "code",
   "execution_count": 5,
   "id": "04aff1a8-0b4d-43eb-b807-a58fb49a020d",
   "metadata": {},
   "outputs": [
    {
     "data": {
      "text/plain": [
       "['c', 'a', 'f', 'é']"
      ]
     },
     "execution_count": 5,
     "metadata": {},
     "output_type": "execute_result"
    }
   ],
   "source": [
    "list(s)"
   ]
  },
  {
   "cell_type": "code",
   "execution_count": 6,
   "id": "b033dd62-0cc3-4167-9b38-194473aad375",
   "metadata": {},
   "outputs": [
    {
     "name": "stdout",
     "output_type": "stream",
     "text": [
      "b'caf\\xc3\\xa9'\n"
     ]
    }
   ],
   "source": [
    "print(b)"
   ]
  },
  {
   "cell_type": "code",
   "execution_count": 7,
   "id": "8a434a2c-15d4-404a-9e33-be5357251e84",
   "metadata": {},
   "outputs": [
    {
     "data": {
      "text/plain": [
       "bytes"
      ]
     },
     "execution_count": 7,
     "metadata": {},
     "output_type": "execute_result"
    }
   ],
   "source": [
    "type(b)"
   ]
  },
  {
   "cell_type": "code",
   "execution_count": 8,
   "id": "94be1716-6b71-4be1-b976-5ca9379a5203",
   "metadata": {},
   "outputs": [
    {
     "data": {
      "text/plain": [
       "str"
      ]
     },
     "execution_count": 8,
     "metadata": {},
     "output_type": "execute_result"
    }
   ],
   "source": [
    "type(s)"
   ]
  },
  {
   "cell_type": "code",
   "execution_count": 1,
   "id": "09d9fc25-a1e9-4732-970b-d53d9c826779",
   "metadata": {},
   "outputs": [],
   "source": [
    "from sys import maxunicode"
   ]
  },
  {
   "cell_type": "code",
   "execution_count": 3,
   "id": "f75f5f49-38aa-4374-b72e-7d0a2c06932d",
   "metadata": {},
   "outputs": [
    {
     "data": {
      "text/plain": [
       "1114111"
      ]
     },
     "execution_count": 3,
     "metadata": {},
     "output_type": "execute_result"
    }
   ],
   "source": [
    "maxunicode"
   ]
  },
  {
   "cell_type": "code",
   "execution_count": 7,
   "id": "87c1e919-db83-4f95-a80f-f7e4f1812068",
   "metadata": {},
   "outputs": [
    {
     "name": "stdout",
     "output_type": "stream",
     "text": [
      "119500\t𝋌\tKAKTOVIK NUMERAL TWELVE\n",
      "119501\t𝋍\tKAKTOVIK NUMERAL THIRTEEN\n",
      "119502\t𝋎\tKAKTOVIK NUMERAL FOURTEEN\n",
      "119503\t𝋏\tKAKTOVIK NUMERAL FIFTEEN\n",
      "119504\t𝋐\tKAKTOVIK NUMERAL SIXTEEN\n",
      "119505\t𝋑\tKAKTOVIK NUMERAL SEVENTEEN\n",
      "119506\t𝋒\tKAKTOVIK NUMERAL EIGHTEEN\n",
      "119507\t𝋓\tKAKTOVIK NUMERAL NINETEEN\n",
      "119520\t𝋠\tMAYAN NUMERAL ZERO\n",
      "119521\t𝋡\tMAYAN NUMERAL ONE\n",
      "119522\t𝋢\tMAYAN NUMERAL TWO\n",
      "119523\t𝋣\tMAYAN NUMERAL THREE\n",
      "119524\t𝋤\tMAYAN NUMERAL FOUR\n",
      "119525\t𝋥\tMAYAN NUMERAL FIVE\n",
      "119526\t𝋦\tMAYAN NUMERAL SIX\n",
      "119527\t𝋧\tMAYAN NUMERAL SEVEN\n",
      "119528\t𝋨\tMAYAN NUMERAL EIGHT\n",
      "119529\t𝋩\tMAYAN NUMERAL NINE\n",
      "119530\t𝋪\tMAYAN NUMERAL TEN\n",
      "119531\t𝋫\tMAYAN NUMERAL ELEVEN\n",
      "119532\t𝋬\tMAYAN NUMERAL TWELVE\n",
      "119533\t𝋭\tMAYAN NUMERAL THIRTEEN\n",
      "119534\t𝋮\tMAYAN NUMERAL FOURTEEN\n",
      "119535\t𝋯\tMAYAN NUMERAL FIFTEEN\n",
      "119536\t𝋰\tMAYAN NUMERAL SIXTEEN\n",
      "119537\t𝋱\tMAYAN NUMERAL SEVENTEEN\n",
      "119538\t𝋲\tMAYAN NUMERAL EIGHTEEN\n",
      "119539\t𝋳\tMAYAN NUMERAL NINETEEN\n",
      "119552\t𝌀\tMONOGRAM FOR EARTH\n",
      "119553\t𝌁\tDIGRAM FOR HEAVENLY EARTH\n",
      "119554\t𝌂\tDIGRAM FOR HUMAN EARTH\n",
      "119555\t𝌃\tDIGRAM FOR EARTHLY HEAVEN\n",
      "119556\t𝌄\tDIGRAM FOR EARTHLY HUMAN\n",
      "119557\t𝌅\tDIGRAM FOR EARTH\n",
      "119558\t𝌆\tTETRAGRAM FOR CENTRE\n",
      "119559\t𝌇\tTETRAGRAM FOR FULL CIRCLE\n",
      "119560\t𝌈\tTETRAGRAM FOR MIRED\n",
      "119561\t𝌉\tTETRAGRAM FOR BARRIER\n",
      "119562\t𝌊\tTETRAGRAM FOR KEEPING SMALL\n",
      "119563\t𝌋\tTETRAGRAM FOR CONTRARIETY\n",
      "119564\t𝌌\tTETRAGRAM FOR ASCENT\n",
      "119565\t𝌍\tTETRAGRAM FOR OPPOSITION\n",
      "119566\t𝌎\tTETRAGRAM FOR BRANCHING OUT\n",
      "119567\t𝌏\tTETRAGRAM FOR DEFECTIVENESS OR DISTORTION\n",
      "119568\t𝌐\tTETRAGRAM FOR DIVERGENCE\n",
      "119569\t𝌑\tTETRAGRAM FOR YOUTHFULNESS\n",
      "119570\t𝌒\tTETRAGRAM FOR INCREASE\n",
      "119571\t𝌓\tTETRAGRAM FOR PENETRATION\n",
      "119572\t𝌔\tTETRAGRAM FOR REACH\n",
      "119573\t𝌕\tTETRAGRAM FOR CONTACT\n",
      "119574\t𝌖\tTETRAGRAM FOR HOLDING BACK\n",
      "119575\t𝌗\tTETRAGRAM FOR WAITING\n",
      "119576\t𝌘\tTETRAGRAM FOR FOLLOWING\n",
      "119577\t𝌙\tTETRAGRAM FOR ADVANCE\n",
      "119578\t𝌚\tTETRAGRAM FOR RELEASE\n",
      "119579\t𝌛\tTETRAGRAM FOR RESISTANCE\n",
      "119580\t𝌜\tTETRAGRAM FOR EASE\n",
      "119581\t𝌝\tTETRAGRAM FOR JOY\n",
      "119582\t𝌞\tTETRAGRAM FOR CONTENTION\n",
      "119583\t𝌟\tTETRAGRAM FOR ENDEAVOUR\n",
      "119584\t𝌠\tTETRAGRAM FOR DUTIES\n",
      "119585\t𝌡\tTETRAGRAM FOR CHANGE\n",
      "119586\t𝌢\tTETRAGRAM FOR DECISIVENESS\n",
      "119587\t𝌣\tTETRAGRAM FOR BOLD RESOLUTION\n",
      "119588\t𝌤\tTETRAGRAM FOR PACKING\n",
      "119589\t𝌥\tTETRAGRAM FOR LEGION\n",
      "119590\t𝌦\tTETRAGRAM FOR CLOSENESS\n",
      "119591\t𝌧\tTETRAGRAM FOR KINSHIP\n",
      "119592\t𝌨\tTETRAGRAM FOR GATHERING\n",
      "119593\t𝌩\tTETRAGRAM FOR STRENGTH\n",
      "119594\t𝌪\tTETRAGRAM FOR PURITY\n",
      "119595\t𝌫\tTETRAGRAM FOR FULLNESS\n",
      "119596\t𝌬\tTETRAGRAM FOR RESIDENCE\n",
      "119597\t𝌭\tTETRAGRAM FOR LAW OR MODEL\n",
      "119598\t𝌮\tTETRAGRAM FOR RESPONSE\n",
      "119599\t𝌯\tTETRAGRAM FOR GOING TO MEET\n",
      "119600\t𝌰\tTETRAGRAM FOR ENCOUNTERS\n",
      "119601\t𝌱\tTETRAGRAM FOR STOVE\n",
      "119602\t𝌲\tTETRAGRAM FOR GREATNESS\n",
      "119603\t𝌳\tTETRAGRAM FOR ENLARGEMENT\n",
      "119604\t𝌴\tTETRAGRAM FOR PATTERN\n",
      "119605\t𝌵\tTETRAGRAM FOR RITUAL\n",
      "119606\t𝌶\tTETRAGRAM FOR FLIGHT\n",
      "119607\t𝌷\tTETRAGRAM FOR VASTNESS OR WASTING\n",
      "119608\t𝌸\tTETRAGRAM FOR CONSTANCY\n",
      "119609\t𝌹\tTETRAGRAM FOR MEASURE\n",
      "119610\t𝌺\tTETRAGRAM FOR ETERNITY\n",
      "119611\t𝌻\tTETRAGRAM FOR UNITY\n",
      "119612\t𝌼\tTETRAGRAM FOR DIMINISHMENT\n",
      "119613\t𝌽\tTETRAGRAM FOR CLOSED MOUTH\n",
      "119614\t𝌾\tTETRAGRAM FOR GUARDEDNESS\n",
      "119615\t𝌿\tTETRAGRAM FOR GATHERING IN\n",
      "119616\t𝍀\tTETRAGRAM FOR MASSING\n",
      "119617\t𝍁\tTETRAGRAM FOR ACCUMULATION\n",
      "119618\t𝍂\tTETRAGRAM FOR EMBELLISHMENT\n",
      "119619\t𝍃\tTETRAGRAM FOR DOUBT\n",
      "119620\t𝍄\tTETRAGRAM FOR WATCH\n",
      "119621\t𝍅\tTETRAGRAM FOR SINKING\n",
      "119622\t𝍆\tTETRAGRAM FOR INNER\n",
      "119623\t𝍇\tTETRAGRAM FOR DEPARTURE\n",
      "119624\t𝍈\tTETRAGRAM FOR DARKENING\n",
      "119625\t𝍉\tTETRAGRAM FOR DIMMING\n",
      "119626\t𝍊\tTETRAGRAM FOR EXHAUSTION\n",
      "119627\t𝍋\tTETRAGRAM FOR SEVERANCE\n",
      "119628\t𝍌\tTETRAGRAM FOR STOPPAGE\n",
      "119629\t𝍍\tTETRAGRAM FOR HARDNESS\n",
      "119630\t𝍎\tTETRAGRAM FOR COMPLETION\n",
      "119631\t𝍏\tTETRAGRAM FOR CLOSURE\n",
      "119632\t𝍐\tTETRAGRAM FOR FAILURE\n",
      "119633\t𝍑\tTETRAGRAM FOR AGGRAVATION\n",
      "119634\t𝍒\tTETRAGRAM FOR COMPLIANCE\n",
      "119635\t𝍓\tTETRAGRAM FOR ON THE VERGE\n",
      "119636\t𝍔\tTETRAGRAM FOR DIFFICULTIES\n",
      "119637\t𝍕\tTETRAGRAM FOR LABOURING\n",
      "119638\t𝍖\tTETRAGRAM FOR FOSTERING\n",
      "119648\t𝍠\tCOUNTING ROD UNIT DIGIT ONE\n",
      "119649\t𝍡\tCOUNTING ROD UNIT DIGIT TWO\n",
      "119650\t𝍢\tCOUNTING ROD UNIT DIGIT THREE\n",
      "119651\t𝍣\tCOUNTING ROD UNIT DIGIT FOUR\n",
      "119652\t𝍤\tCOUNTING ROD UNIT DIGIT FIVE\n",
      "119653\t𝍥\tCOUNTING ROD UNIT DIGIT SIX\n",
      "119654\t𝍦\tCOUNTING ROD UNIT DIGIT SEVEN\n",
      "119655\t𝍧\tCOUNTING ROD UNIT DIGIT EIGHT\n",
      "119656\t𝍨\tCOUNTING ROD UNIT DIGIT NINE\n",
      "119657\t𝍩\tCOUNTING ROD TENS DIGIT ONE\n",
      "119658\t𝍪\tCOUNTING ROD TENS DIGIT TWO\n",
      "119659\t𝍫\tCOUNTING ROD TENS DIGIT THREE\n",
      "119660\t𝍬\tCOUNTING ROD TENS DIGIT FOUR\n",
      "119661\t𝍭\tCOUNTING ROD TENS DIGIT FIVE\n",
      "119662\t𝍮\tCOUNTING ROD TENS DIGIT SIX\n",
      "119663\t𝍯\tCOUNTING ROD TENS DIGIT SEVEN\n",
      "119664\t𝍰\tCOUNTING ROD TENS DIGIT EIGHT\n",
      "119665\t𝍱\tCOUNTING ROD TENS DIGIT NINE\n",
      "119666\t𝍲\tIDEOGRAPHIC TALLY MARK ONE\n",
      "119667\t𝍳\tIDEOGRAPHIC TALLY MARK TWO\n",
      "119668\t𝍴\tIDEOGRAPHIC TALLY MARK THREE\n",
      "119669\t𝍵\tIDEOGRAPHIC TALLY MARK FOUR\n",
      "119670\t𝍶\tIDEOGRAPHIC TALLY MARK FIVE\n",
      "119671\t𝍷\tTALLY MARK ONE\n",
      "119672\t𝍸\tTALLY MARK FIVE\n",
      "119808\t𝐀\tMATHEMATICAL BOLD CAPITAL A\n",
      "119809\t𝐁\tMATHEMATICAL BOLD CAPITAL B\n",
      "119810\t𝐂\tMATHEMATICAL BOLD CAPITAL C\n",
      "119811\t𝐃\tMATHEMATICAL BOLD CAPITAL D\n",
      "119812\t𝐄\tMATHEMATICAL BOLD CAPITAL E\n",
      "119813\t𝐅\tMATHEMATICAL BOLD CAPITAL F\n",
      "119814\t𝐆\tMATHEMATICAL BOLD CAPITAL G\n",
      "119815\t𝐇\tMATHEMATICAL BOLD CAPITAL H\n",
      "119816\t𝐈\tMATHEMATICAL BOLD CAPITAL I\n",
      "119817\t𝐉\tMATHEMATICAL BOLD CAPITAL J\n",
      "119818\t𝐊\tMATHEMATICAL BOLD CAPITAL K\n",
      "119819\t𝐋\tMATHEMATICAL BOLD CAPITAL L\n",
      "119820\t𝐌\tMATHEMATICAL BOLD CAPITAL M\n",
      "119821\t𝐍\tMATHEMATICAL BOLD CAPITAL N\n",
      "119822\t𝐎\tMATHEMATICAL BOLD CAPITAL O\n",
      "119823\t𝐏\tMATHEMATICAL BOLD CAPITAL P\n",
      "119824\t𝐐\tMATHEMATICAL BOLD CAPITAL Q\n",
      "119825\t𝐑\tMATHEMATICAL BOLD CAPITAL R\n",
      "119826\t𝐒\tMATHEMATICAL BOLD CAPITAL S\n",
      "119827\t𝐓\tMATHEMATICAL BOLD CAPITAL T\n",
      "119828\t𝐔\tMATHEMATICAL BOLD CAPITAL U\n",
      "119829\t𝐕\tMATHEMATICAL BOLD CAPITAL V\n",
      "119830\t𝐖\tMATHEMATICAL BOLD CAPITAL W\n",
      "119831\t𝐗\tMATHEMATICAL BOLD CAPITAL X\n",
      "119832\t𝐘\tMATHEMATICAL BOLD CAPITAL Y\n",
      "119833\t𝐙\tMATHEMATICAL BOLD CAPITAL Z\n",
      "119834\t𝐚\tMATHEMATICAL BOLD SMALL A\n",
      "119835\t𝐛\tMATHEMATICAL BOLD SMALL B\n",
      "119836\t𝐜\tMATHEMATICAL BOLD SMALL C\n",
      "119837\t𝐝\tMATHEMATICAL BOLD SMALL D\n",
      "119838\t𝐞\tMATHEMATICAL BOLD SMALL E\n",
      "119839\t𝐟\tMATHEMATICAL BOLD SMALL F\n",
      "119840\t𝐠\tMATHEMATICAL BOLD SMALL G\n",
      "119841\t𝐡\tMATHEMATICAL BOLD SMALL H\n",
      "119842\t𝐢\tMATHEMATICAL BOLD SMALL I\n",
      "119843\t𝐣\tMATHEMATICAL BOLD SMALL J\n",
      "119844\t𝐤\tMATHEMATICAL BOLD SMALL K\n",
      "119845\t𝐥\tMATHEMATICAL BOLD SMALL L\n",
      "119846\t𝐦\tMATHEMATICAL BOLD SMALL M\n",
      "119847\t𝐧\tMATHEMATICAL BOLD SMALL N\n",
      "119848\t𝐨\tMATHEMATICAL BOLD SMALL O\n",
      "119849\t𝐩\tMATHEMATICAL BOLD SMALL P\n",
      "119850\t𝐪\tMATHEMATICAL BOLD SMALL Q\n",
      "119851\t𝐫\tMATHEMATICAL BOLD SMALL R\n",
      "119852\t𝐬\tMATHEMATICAL BOLD SMALL S\n",
      "119853\t𝐭\tMATHEMATICAL BOLD SMALL T\n",
      "119854\t𝐮\tMATHEMATICAL BOLD SMALL U\n",
      "119855\t𝐯\tMATHEMATICAL BOLD SMALL V\n",
      "119856\t𝐰\tMATHEMATICAL BOLD SMALL W\n",
      "119857\t𝐱\tMATHEMATICAL BOLD SMALL X\n",
      "119858\t𝐲\tMATHEMATICAL BOLD SMALL Y\n",
      "119859\t𝐳\tMATHEMATICAL BOLD SMALL Z\n",
      "119860\t𝐴\tMATHEMATICAL ITALIC CAPITAL A\n",
      "119861\t𝐵\tMATHEMATICAL ITALIC CAPITAL B\n",
      "119862\t𝐶\tMATHEMATICAL ITALIC CAPITAL C\n",
      "119863\t𝐷\tMATHEMATICAL ITALIC CAPITAL D\n",
      "119864\t𝐸\tMATHEMATICAL ITALIC CAPITAL E\n",
      "119865\t𝐹\tMATHEMATICAL ITALIC CAPITAL F\n",
      "119866\t𝐺\tMATHEMATICAL ITALIC CAPITAL G\n",
      "119867\t𝐻\tMATHEMATICAL ITALIC CAPITAL H\n",
      "119868\t𝐼\tMATHEMATICAL ITALIC CAPITAL I\n",
      "119869\t𝐽\tMATHEMATICAL ITALIC CAPITAL J\n",
      "119870\t𝐾\tMATHEMATICAL ITALIC CAPITAL K\n",
      "119871\t𝐿\tMATHEMATICAL ITALIC CAPITAL L\n",
      "119872\t𝑀\tMATHEMATICAL ITALIC CAPITAL M\n",
      "119873\t𝑁\tMATHEMATICAL ITALIC CAPITAL N\n",
      "119874\t𝑂\tMATHEMATICAL ITALIC CAPITAL O\n",
      "119875\t𝑃\tMATHEMATICAL ITALIC CAPITAL P\n",
      "119876\t𝑄\tMATHEMATICAL ITALIC CAPITAL Q\n",
      "119877\t𝑅\tMATHEMATICAL ITALIC CAPITAL R\n",
      "119878\t𝑆\tMATHEMATICAL ITALIC CAPITAL S\n",
      "119879\t𝑇\tMATHEMATICAL ITALIC CAPITAL T\n",
      "119880\t𝑈\tMATHEMATICAL ITALIC CAPITAL U\n",
      "119881\t𝑉\tMATHEMATICAL ITALIC CAPITAL V\n",
      "119882\t𝑊\tMATHEMATICAL ITALIC CAPITAL W\n",
      "119883\t𝑋\tMATHEMATICAL ITALIC CAPITAL X\n",
      "119884\t𝑌\tMATHEMATICAL ITALIC CAPITAL Y\n",
      "119885\t𝑍\tMATHEMATICAL ITALIC CAPITAL Z\n",
      "119886\t𝑎\tMATHEMATICAL ITALIC SMALL A\n",
      "119887\t𝑏\tMATHEMATICAL ITALIC SMALL B\n",
      "119888\t𝑐\tMATHEMATICAL ITALIC SMALL C\n",
      "119889\t𝑑\tMATHEMATICAL ITALIC SMALL D\n",
      "119890\t𝑒\tMATHEMATICAL ITALIC SMALL E\n",
      "119891\t𝑓\tMATHEMATICAL ITALIC SMALL F\n",
      "119892\t𝑔\tMATHEMATICAL ITALIC SMALL G\n",
      "119894\t𝑖\tMATHEMATICAL ITALIC SMALL I\n",
      "119895\t𝑗\tMATHEMATICAL ITALIC SMALL J\n",
      "119896\t𝑘\tMATHEMATICAL ITALIC SMALL K\n",
      "119897\t𝑙\tMATHEMATICAL ITALIC SMALL L\n",
      "119898\t𝑚\tMATHEMATICAL ITALIC SMALL M\n",
      "119899\t𝑛\tMATHEMATICAL ITALIC SMALL N\n",
      "119900\t𝑜\tMATHEMATICAL ITALIC SMALL O\n",
      "119901\t𝑝\tMATHEMATICAL ITALIC SMALL P\n",
      "119902\t𝑞\tMATHEMATICAL ITALIC SMALL Q\n",
      "119903\t𝑟\tMATHEMATICAL ITALIC SMALL R\n",
      "119904\t𝑠\tMATHEMATICAL ITALIC SMALL S\n",
      "119905\t𝑡\tMATHEMATICAL ITALIC SMALL T\n",
      "119906\t𝑢\tMATHEMATICAL ITALIC SMALL U\n",
      "119907\t𝑣\tMATHEMATICAL ITALIC SMALL V\n",
      "119908\t𝑤\tMATHEMATICAL ITALIC SMALL W\n",
      "119909\t𝑥\tMATHEMATICAL ITALIC SMALL X\n",
      "119910\t𝑦\tMATHEMATICAL ITALIC SMALL Y\n",
      "119911\t𝑧\tMATHEMATICAL ITALIC SMALL Z\n",
      "119912\t𝑨\tMATHEMATICAL BOLD ITALIC CAPITAL A\n",
      "119913\t𝑩\tMATHEMATICAL BOLD ITALIC CAPITAL B\n",
      "119914\t𝑪\tMATHEMATICAL BOLD ITALIC CAPITAL C\n",
      "119915\t𝑫\tMATHEMATICAL BOLD ITALIC CAPITAL D\n",
      "119916\t𝑬\tMATHEMATICAL BOLD ITALIC CAPITAL E\n",
      "119917\t𝑭\tMATHEMATICAL BOLD ITALIC CAPITAL F\n",
      "119918\t𝑮\tMATHEMATICAL BOLD ITALIC CAPITAL G\n",
      "119919\t𝑯\tMATHEMATICAL BOLD ITALIC CAPITAL H\n",
      "119920\t𝑰\tMATHEMATICAL BOLD ITALIC CAPITAL I\n",
      "119921\t𝑱\tMATHEMATICAL BOLD ITALIC CAPITAL J\n",
      "119922\t𝑲\tMATHEMATICAL BOLD ITALIC CAPITAL K\n",
      "119923\t𝑳\tMATHEMATICAL BOLD ITALIC CAPITAL L\n",
      "119924\t𝑴\tMATHEMATICAL BOLD ITALIC CAPITAL M\n",
      "119925\t𝑵\tMATHEMATICAL BOLD ITALIC CAPITAL N\n",
      "119926\t𝑶\tMATHEMATICAL BOLD ITALIC CAPITAL O\n",
      "119927\t𝑷\tMATHEMATICAL BOLD ITALIC CAPITAL P\n",
      "119928\t𝑸\tMATHEMATICAL BOLD ITALIC CAPITAL Q\n",
      "119929\t𝑹\tMATHEMATICAL BOLD ITALIC CAPITAL R\n",
      "119930\t𝑺\tMATHEMATICAL BOLD ITALIC CAPITAL S\n",
      "119931\t𝑻\tMATHEMATICAL BOLD ITALIC CAPITAL T\n",
      "119932\t𝑼\tMATHEMATICAL BOLD ITALIC CAPITAL U\n",
      "119933\t𝑽\tMATHEMATICAL BOLD ITALIC CAPITAL V\n",
      "119934\t𝑾\tMATHEMATICAL BOLD ITALIC CAPITAL W\n",
      "119935\t𝑿\tMATHEMATICAL BOLD ITALIC CAPITAL X\n",
      "119936\t𝒀\tMATHEMATICAL BOLD ITALIC CAPITAL Y\n",
      "119937\t𝒁\tMATHEMATICAL BOLD ITALIC CAPITAL Z\n",
      "119938\t𝒂\tMATHEMATICAL BOLD ITALIC SMALL A\n",
      "119939\t𝒃\tMATHEMATICAL BOLD ITALIC SMALL B\n",
      "119940\t𝒄\tMATHEMATICAL BOLD ITALIC SMALL C\n",
      "119941\t𝒅\tMATHEMATICAL BOLD ITALIC SMALL D\n",
      "119942\t𝒆\tMATHEMATICAL BOLD ITALIC SMALL E\n",
      "119943\t𝒇\tMATHEMATICAL BOLD ITALIC SMALL F\n",
      "119944\t𝒈\tMATHEMATICAL BOLD ITALIC SMALL G\n",
      "119945\t𝒉\tMATHEMATICAL BOLD ITALIC SMALL H\n",
      "119946\t𝒊\tMATHEMATICAL BOLD ITALIC SMALL I\n",
      "119947\t𝒋\tMATHEMATICAL BOLD ITALIC SMALL J\n",
      "119948\t𝒌\tMATHEMATICAL BOLD ITALIC SMALL K\n",
      "119949\t𝒍\tMATHEMATICAL BOLD ITALIC SMALL L\n",
      "119950\t𝒎\tMATHEMATICAL BOLD ITALIC SMALL M\n",
      "119951\t𝒏\tMATHEMATICAL BOLD ITALIC SMALL N\n",
      "119952\t𝒐\tMATHEMATICAL BOLD ITALIC SMALL O\n",
      "119953\t𝒑\tMATHEMATICAL BOLD ITALIC SMALL P\n",
      "119954\t𝒒\tMATHEMATICAL BOLD ITALIC SMALL Q\n",
      "119955\t𝒓\tMATHEMATICAL BOLD ITALIC SMALL R\n",
      "119956\t𝒔\tMATHEMATICAL BOLD ITALIC SMALL S\n",
      "119957\t𝒕\tMATHEMATICAL BOLD ITALIC SMALL T\n",
      "119958\t𝒖\tMATHEMATICAL BOLD ITALIC SMALL U\n",
      "119959\t𝒗\tMATHEMATICAL BOLD ITALIC SMALL V\n",
      "119960\t𝒘\tMATHEMATICAL BOLD ITALIC SMALL W\n",
      "119961\t𝒙\tMATHEMATICAL BOLD ITALIC SMALL X\n",
      "119962\t𝒚\tMATHEMATICAL BOLD ITALIC SMALL Y\n",
      "119963\t𝒛\tMATHEMATICAL BOLD ITALIC SMALL Z\n",
      "119964\t𝒜\tMATHEMATICAL SCRIPT CAPITAL A\n",
      "119966\t𝒞\tMATHEMATICAL SCRIPT CAPITAL C\n",
      "119967\t𝒟\tMATHEMATICAL SCRIPT CAPITAL D\n",
      "119970\t𝒢\tMATHEMATICAL SCRIPT CAPITAL G\n",
      "119973\t𝒥\tMATHEMATICAL SCRIPT CAPITAL J\n",
      "119974\t𝒦\tMATHEMATICAL SCRIPT CAPITAL K\n",
      "119977\t𝒩\tMATHEMATICAL SCRIPT CAPITAL N\n",
      "119978\t𝒪\tMATHEMATICAL SCRIPT CAPITAL O\n",
      "119979\t𝒫\tMATHEMATICAL SCRIPT CAPITAL P\n",
      "119980\t𝒬\tMATHEMATICAL SCRIPT CAPITAL Q\n",
      "119982\t𝒮\tMATHEMATICAL SCRIPT CAPITAL S\n",
      "119983\t𝒯\tMATHEMATICAL SCRIPT CAPITAL T\n",
      "119984\t𝒰\tMATHEMATICAL SCRIPT CAPITAL U\n",
      "119985\t𝒱\tMATHEMATICAL SCRIPT CAPITAL V\n",
      "119986\t𝒲\tMATHEMATICAL SCRIPT CAPITAL W\n",
      "119987\t𝒳\tMATHEMATICAL SCRIPT CAPITAL X\n",
      "119988\t𝒴\tMATHEMATICAL SCRIPT CAPITAL Y\n",
      "119989\t𝒵\tMATHEMATICAL SCRIPT CAPITAL Z\n",
      "119990\t𝒶\tMATHEMATICAL SCRIPT SMALL A\n",
      "119991\t𝒷\tMATHEMATICAL SCRIPT SMALL B\n",
      "119992\t𝒸\tMATHEMATICAL SCRIPT SMALL C\n",
      "119993\t𝒹\tMATHEMATICAL SCRIPT SMALL D\n",
      "119995\t𝒻\tMATHEMATICAL SCRIPT SMALL F\n",
      "119997\t𝒽\tMATHEMATICAL SCRIPT SMALL H\n",
      "119998\t𝒾\tMATHEMATICAL SCRIPT SMALL I\n",
      "119999\t𝒿\tMATHEMATICAL SCRIPT SMALL J\n"
     ]
    }
   ],
   "source": [
    "from unicodedata import name\n",
    "for i in range(119_500, 120_000):\n",
    "    c = chr(i)\n",
    "    nome = name(c, None)\n",
    "    if nome is None:\n",
    "        continue\n",
    "    print(f'{i}\\t{c}\\t{nome}') "
   ]
  },
  {
   "cell_type": "code",
   "execution_count": 1,
   "id": "485b00a3-acd6-4c32-82c6-5f845f9bd91c",
   "metadata": {},
   "outputs": [
    {
     "name": "stdout",
     "output_type": "stream",
     "text": [
      "🇦🇺\n",
      "🇺🇦\n",
      "🇦🇦\n",
      "🇸🇸\n"
     ]
    }
   ],
   "source": [
    "# REGIONAL INDICATOR SYMBOLS\n",
    "\n",
    "RIS_S = '\\N{REGIONAL INDICATOR SYMBOL LETTER S}'\n",
    "RIS_A = '\\U0001F1E6'  # LETTER A\n",
    "RIS_U = '\\U0001F1FA'  # LETTER U\n",
    "print(RIS_A + RIS_U)  # AU: Australia\n",
    "print(RIS_U + RIS_A)  # UA: Ukraine\n",
    "print(RIS_A + RIS_A)  # AA: no such country\n",
    "print(RIS_S * 2)\n"
   ]
  },
  {
   "cell_type": "code",
   "execution_count": 2,
   "id": "71e96343-c8ad-4c3c-825f-1e45724b2459",
   "metadata": {},
   "outputs": [
    {
     "name": "stdout",
     "output_type": "stream",
     "text": [
      "👍\tTHUMBS UP SIGN\n",
      "👍🏻\tTHUMBS UP SIGN + EMOJI MODIFIER FITZPATRICK TYPE-1-2\n",
      "👍🏼\tTHUMBS UP SIGN + EMOJI MODIFIER FITZPATRICK TYPE-3\n",
      "👍🏽\tTHUMBS UP SIGN + EMOJI MODIFIER FITZPATRICK TYPE-4\n",
      "👍🏾\tTHUMBS UP SIGN + EMOJI MODIFIER FITZPATRICK TYPE-5\n",
      "👍🏿\tTHUMBS UP SIGN + EMOJI MODIFIER FITZPATRICK TYPE-6\n"
     ]
    }
   ],
   "source": [
    "from unicodedata import name\n",
    "\n",
    "SKIN1 = 0x1F3FB  # EMOJI MODIFIER FITZPATRICK TYPE-1-2  # (1)\n",
    "SKINS = [chr(i) for i in range(SKIN1, SKIN1 + 5)]       # (2)\n",
    "THUMB = '\\U0001F44d'  # THUMBS UP SIGN 👍\n",
    "\n",
    "examples = [THUMB]                                      # (3)\n",
    "examples.extend(THUMB + skin for skin in SKINS)         # (4)\n",
    "\n",
    "for example in examples:\n",
    "    print(example, end='\\t')                            # (5)\n",
    "    print(' + '.join(name(char) for char in example))   # (6)"
   ]
  },
  {
   "cell_type": "code",
   "execution_count": 4,
   "id": "4954681f-981f-436e-a58e-f86682d9af92",
   "metadata": {},
   "outputs": [
    {
     "name": "stdout",
     "output_type": "stream",
     "text": [
      "👨‍🦰\tE11.0\tman: red hair\n",
      "\t👨\tU+1F468\tMAN + ZWJ\n",
      "\t🦰\tU+1F9B0\tEMOJI COMPONENT RED HAIR\n",
      "🧑‍🤝‍🧑\tE12.0\tpeople holding hands\n",
      "\t🧑\tU+1F9D1\tADULT + ZWJ\n",
      "\t🤝\tU+1F91D\tHANDSHAKE + ZWJ\n",
      "\t🧑\tU+1F9D1\tADULT\n",
      "🏊🏿‍♀️\tE4.0\twoman swimming: dark skin tone\n",
      "\t🏊\tU+1F3CA\tSWIMMER\n",
      "\t🏿\tU+1F3FF\tEMOJI MODIFIER FITZPATRICK TYPE-6 + ZWJ\n",
      "\t♀\tU+2640\tFEMALE SIGN + V16\n",
      "👩🏾‍✈️\tE4.0\twoman pilot: medium-dark skin tone\n",
      "\t👩\tU+1F469\tWOMAN\n",
      "\t🏾\tU+1F3FE\tEMOJI MODIFIER FITZPATRICK TYPE-5 + ZWJ\n",
      "\t✈\tU+2708\tAIRPLANE + V16\n",
      "👨‍👩‍👧\tE2.0\tfamily: man, woman, girl\n",
      "\t👨\tU+1F468\tMAN + ZWJ\n",
      "\t👩\tU+1F469\tWOMAN + ZWJ\n",
      "\t👧\tU+1F467\tGIRL\n",
      "🏳️‍⚧️\tE13.0\ttransgender flag\n",
      "\t🏳\tU+1F3F3\tWAVING WHITE FLAG + V16 + ZWJ\n",
      "\t⚧\tU+26A7\tMALE WITH STROKE AND MALE AND FEMALE SIGN + V16\n",
      "👩‍❤️‍💋‍👩\tE2.0\tkiss: woman, woman\n",
      "\t👩\tU+1F469\tWOMAN + ZWJ\n",
      "\t❤\tU+2764\tHEAVY BLACK HEART + V16 + ZWJ\n",
      "\t💋\tU+1F48B\tKISS MARK + ZWJ\n",
      "\t👩\tU+1F469\tWOMAN\n"
     ]
    }
   ],
   "source": [
    "from unicodedata import name\n",
    "\n",
    "zwj_sample = \"\"\"\n",
    "1F468 200D 1F9B0            |man: red hair                      |E11.0\n",
    "1F9D1 200D 1F91D 200D 1F9D1 |people holding hands               |E12.0\n",
    "1F3CA 1F3FF 200D 2640 FE0F  |woman swimming: dark skin tone     |E4.0\n",
    "1F469 1F3FE 200D 2708 FE0F  |woman pilot: medium-dark skin tone |E4.0\n",
    "1F468 200D 1F469 200D 1F467 |family: man, woman, girl           |E2.0\n",
    "1F3F3 FE0F 200D 26A7 FE0F   |transgender flag                   |E13.0\n",
    "1F469 200D 2764 FE0F 200D 1F48B 200D 1F469 |kiss: woman, woman  |E2.0\n",
    "\"\"\"\n",
    "\n",
    "markers = {'\\u200D': 'ZWJ',  # ZERO WIDTH JOINER\n",
    "           '\\uFE0F': 'V16',  # VARIATION SELECTOR-16\n",
    "           }\n",
    "\n",
    "for line in zwj_sample.strip().split('\\n'):\n",
    "    code, descr, version = (s.strip() for s in line.split('|'))\n",
    "    chars = [chr(int(c, 16)) for c in code.split()]\n",
    "    print(''.join(chars), version, descr, sep='\\t', end='')\n",
    "    for char in chars:\n",
    "        if char in markers:\n",
    "            print(' + ' + markers[char], end='')\n",
    "        else:\n",
    "            ucode = f'U+{ord(char):04X}'\n",
    "            print(f'\\n\\t{char}\\t{ucode}\\t{name(char)}', end='')\n",
    "    print()"
   ]
  },
  {
   "cell_type": "markdown",
   "id": "c3392837-c40c-460e-b46c-c0cb3e68780e",
   "metadata": {},
   "source": [
    "Grapheme clusters"
   ]
  },
  {
   "cell_type": "code",
   "execution_count": null,
   "id": "600d7469-f925-4771-bab0-a1bc1ef2ad9d",
   "metadata": {},
   "outputs": [],
   "source": []
  }
 ],
 "metadata": {
  "kernelspec": {
   "display_name": "Python 3 (ipykernel)",
   "language": "python",
   "name": "python3"
  },
  "language_info": {
   "codemirror_mode": {
    "name": "ipython",
    "version": 3
   },
   "file_extension": ".py",
   "mimetype": "text/x-python",
   "name": "python",
   "nbconvert_exporter": "python",
   "pygments_lexer": "ipython3",
   "version": "3.12.3"
  }
 },
 "nbformat": 4,
 "nbformat_minor": 5
}

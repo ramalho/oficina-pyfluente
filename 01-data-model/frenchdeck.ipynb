{
 "cells": [
  {
   "cell_type": "markdown",
   "id": "8683f614",
   "metadata": {},
   "source": [
    "# 1. O modelo de dados do Python\n",
    "\n",
    "## 1.2. Um baralho pythônico\n"
   ]
  },
  {
   "cell_type": "markdown",
   "id": "60e75768-2e07-4fec-a2e9-1489eb9eaef4",
   "metadata": {},
   "source": [
    "### 1.2.1. Classe `Card`"
   ]
  },
  {
   "cell_type": "markdown",
   "id": "a301e6ce",
   "metadata": {},
   "source": [
    "\n",
    "`Card` é um `namedtuple` que representa uma carta de baralho."
   ]
  },
  {
   "cell_type": "code",
   "execution_count": null,
   "id": "60d128c6",
   "metadata": {},
   "outputs": [],
   "source": [
    "import collections\n",
    "\n",
    "Card = collections.namedtuple('Card', ['rank', 'suit'])"
   ]
  },
  {
   "cell_type": "markdown",
   "id": "612a5505",
   "metadata": {},
   "source": [
    "O \"sete belo\" é conhecido como \"beer card\" nos EUA:"
   ]
  },
  {
   "cell_type": "code",
   "execution_count": null,
   "id": "f840e176",
   "metadata": {},
   "outputs": [],
   "source": [
    "beer_card = Card('7', 'diamonds')\n",
    "beer_card"
   ]
  },
  {
   "cell_type": "code",
   "execution_count": null,
   "id": "4e9cf489",
   "metadata": {},
   "outputs": [],
   "source": [
    "beer_card.rank, beer_card.suit"
   ]
  },
  {
   "cell_type": "code",
   "execution_count": null,
   "id": "087eb2af",
   "metadata": {},
   "outputs": [],
   "source": [
    "beer_card[0], beer_card[1]"
   ]
  },
  {
   "cell_type": "markdown",
   "id": "d5f4a31c",
   "metadata": {},
   "source": [
    "Uma limitação de `namedtuple` é não permitir a declaração de métodos como em uma classe.\n",
    "\n",
    "Não é recomendado, mas é possível acrescentar métodos por [monkey-patch](https://en.wikipedia.org/wiki/Monkey_patch): você define uma função e atribui ela à classe, da mesma forma que criamos atributos em instâncias:"
   ]
  },
  {
   "cell_type": "code",
   "execution_count": null,
   "id": "d98ced9f",
   "metadata": {},
   "outputs": [],
   "source": [
    "def card_to_str(card):\n",
    "    return '%s of %s' % card\n",
    "\n",
    "card_to_str(beer_card)"
   ]
  },
  {
   "cell_type": "markdown",
   "id": "68ac5d52",
   "metadata": {},
   "source": [
    "Agora podemos atribuir a função à classe com o nome especial `__str__`:"
   ]
  },
  {
   "cell_type": "code",
   "execution_count": null,
   "id": "93100815",
   "metadata": {},
   "outputs": [],
   "source": [
    "Card.__str__ = card_to_str\n",
    "print(beer_card)"
   ]
  },
  {
   "cell_type": "markdown",
   "id": "93253972",
   "metadata": {},
   "source": [
    "### 1.2.2. Classe `FrenchDeck`\n",
    "\n",
    "`FrenchDeck` é uma classe que representa um \"baralho francês\", o tipo mais comum no Brasil, com 52 cartas em 4 naipes de 13 cartas."
   ]
  },
  {
   "cell_type": "code",
   "execution_count": null,
   "id": "12ee5e3f",
   "metadata": {},
   "outputs": [],
   "source": [
    "class FrenchDeck:\n",
    "    ranks = [str(n) for n in range(2, 11)] + list('JQKA')\n",
    "    suits = 'spades diamonds clubs hearts'.split()\n",
    "\n",
    "    def __init__(self):\n",
    "        self._cards = [Card(rank, suit) for suit in self.suits\n",
    "                                        for rank in self.ranks]\n",
    "\n",
    "    def __len__(self):\n",
    "        return len(self._cards)\n",
    "\n",
    "    def __getitem__(self, position):\n",
    "        return self._cards[position]"
   ]
  },
  {
   "cell_type": "markdown",
   "id": "c661f3e5",
   "metadata": {},
   "source": [
    "Veja as operações possíveis com um baralho:"
   ]
  },
  {
   "cell_type": "code",
   "execution_count": null,
   "id": "585d44bf",
   "metadata": {},
   "outputs": [],
   "source": [
    "deck = FrenchDeck()\n",
    "len(deck)"
   ]
  },
  {
   "cell_type": "code",
   "execution_count": null,
   "id": "13a6f6df",
   "metadata": {},
   "outputs": [],
   "source": [
    "deck[3]"
   ]
  },
  {
   "cell_type": "code",
   "execution_count": null,
   "id": "5ebb8717",
   "metadata": {},
   "outputs": [],
   "source": [
    "deck[:3]"
   ]
  },
  {
   "cell_type": "markdown",
   "id": "8436455b",
   "metadata": {},
   "source": [
    "**Nota**: nesse contexto o Python não usa o `__str__` de `Card`. Se você exibir com `print` uma carta de cada vez, daí o `__str__` é usado.\n",
    "\n",
    "Como `FrenchDeck` implementa `__len__` e `__getitem__`, Python entende que é uma `Sequence` (sequência), então o operador `in` funciona:"
   ]
  },
  {
   "cell_type": "code",
   "execution_count": null,
   "id": "9cd61a8c",
   "metadata": {},
   "outputs": [],
   "source": [
    "Card('Q', 'hearts') in deck"
   ]
  },
  {
   "cell_type": "markdown",
   "id": "8dcd2565",
   "metadata": {},
   "source": [
    "#### Exercício\n",
    "\n",
    "Crie uma carta que não existe, e verifique que o `in` devolve `False`"
   ]
  },
  {
   "cell_type": "code",
   "execution_count": null,
   "id": "a22587e9",
   "metadata": {},
   "outputs": [],
   "source": [
    "# sua resposta aqui"
   ]
  },
  {
   "cell_type": "markdown",
   "id": "20cec6b8",
   "metadata": {},
   "source": [
    "O laço `for` sabe lidar com sequências:"
   ]
  },
  {
   "cell_type": "code",
   "execution_count": null,
   "id": "c0dc0afc",
   "metadata": {},
   "outputs": [],
   "source": [
    "for card in deck:\n",
    "    print(card)"
   ]
  },
  {
   "cell_type": "markdown",
   "id": "bd516e84",
   "metadata": {},
   "source": [
    "Muitos métodos da biblioteca padrão lidam com sequências:"
   ]
  },
  {
   "cell_type": "code",
   "execution_count": null,
   "id": "6769a93c",
   "metadata": {},
   "outputs": [],
   "source": [
    "from random import choice\n",
    "choice(deck)"
   ]
  },
  {
   "cell_type": "markdown",
   "id": "d4607555",
   "metadata": {},
   "source": [
    "Mas a função `shuffle` não funciona. Resolver isso será um exercício logo mais:"
   ]
  },
  {
   "cell_type": "code",
   "execution_count": null,
   "id": "532acbb6",
   "metadata": {},
   "outputs": [],
   "source": [
    "from random import shuffle\n",
    "\n",
    "# This should raise a TypeError\n",
    "# shuffle(deck)"
   ]
  },
  {
   "cell_type": "markdown",
   "id": "1a86bf8e",
   "metadata": {},
   "source": [
    "Podemos usar `sorted` para percorrer o baralho em pela ordem de comparação dos elementos das tuplas `Card`:"
   ]
  },
  {
   "cell_type": "code",
   "execution_count": null,
   "id": "6190c00d",
   "metadata": {},
   "outputs": [],
   "source": [
    "for card in sorted(deck):\n",
    "    print(card)"
   ]
  },
  {
   "cell_type": "markdown",
   "id": "42bac4c6",
   "metadata": {},
   "source": [
    "Podemos criar uma função que estabelece um critério de ordenação melhor:"
   ]
  },
  {
   "cell_type": "code",
   "execution_count": null,
   "id": "d5ff533e",
   "metadata": {},
   "outputs": [],
   "source": [
    "suit_values = dict(spades=3, hearts=2, diamonds=1, clubs=0)\n",
    "\n",
    "def spades_high_ordering(card):\n",
    "    rank_value = FrenchDeck.ranks.index(card.rank)\n",
    "    return rank_value * len(suit_values) + suit_values[card.suit]"
   ]
  },
  {
   "cell_type": "code",
   "execution_count": null,
   "id": "aafe58e2",
   "metadata": {},
   "outputs": [],
   "source": [
    "spades_high_ordering(Card('2', 'clubs'))"
   ]
  },
  {
   "cell_type": "code",
   "execution_count": null,
   "id": "0f4b2395",
   "metadata": {},
   "outputs": [],
   "source": [
    "spades_high_ordering(Card('A', 'spades'))"
   ]
  },
  {
   "cell_type": "markdown",
   "id": "85198ed8",
   "metadata": {},
   "source": [
    "Daí usamos a função como parâmetro `key` em `sorted`. Várias outras funções da biblioteca padrão que envolvem comparação de itens aceitam o parâmetro `key`."
   ]
  },
  {
   "cell_type": "code",
   "execution_count": null,
   "id": "d7f7a8cf",
   "metadata": {},
   "outputs": [],
   "source": [
    "for card in sorted(deck, key=spades_high_ordering):\n",
    "    print(card)"
   ]
  },
  {
   "cell_type": "markdown",
   "id": "52ed3059",
   "metadata": {},
   "source": [
    "#### Exercício\n",
    "\n",
    "Defina uma nova ordem que classifique as cartas primeiro por naipe e depois por valor, de forma que todos os paus venham primeiro, seguidos por todos os ouros, etc."
   ]
  },
  {
   "cell_type": "code",
   "execution_count": null,
   "id": "b3a7e102",
   "metadata": {},
   "outputs": [],
   "source": [
    "# resposta"
   ]
  },
  {
   "cell_type": "markdown",
   "id": "efe14ef8",
   "metadata": {},
   "source": [
    "#### Exercício\n",
    "\n",
    "Escreva um método chamado `setcard` que pega um baralho, um índice e uma carta e atribui a carta ao baralho na posição dada.\n",
    "\n",
    "Em seguida, faça um monkey-patch em `FrenchDeck` para fornecer `__setitem__` como método. Teste atribuindo uma nova carta assim:\n",
    "\n",
    "```meu_baralho[0] = Card('A', 'spades')```\n",
    "\n",
    "Então tenter embaralhar usando `random.shuffle`."
   ]
  },
  {
   "cell_type": "code",
   "execution_count": null,
   "id": "ffa1f986",
   "metadata": {},
   "outputs": [],
   "source": [
    "# resposta"
   ]
  },
  {
   "cell_type": "markdown",
   "id": "156537c9-ba85-45f9-9c89-8dbac8b6a9de",
   "metadata": {},
   "source": [
    "#### Exercício bônus\n",
    "\n",
    "A operação de fatiamento `x[a:b]` normalmente devolve uma instância da mesma classe de `x`.\n",
    "\n",
    "Será necessário alterar `FrenchDeck` para fazer isso acontecer? Como?\n",
    "\n",
    "**Dica 1:** O compilador de Python transforma `x[a:b]` em `x.__getitem__(slice(a, b))`.  \n",
    "\n",
    "**Dica 2:** Será preciso mexer no construtor de `FrenchDeck`, aceitando uma lista opcional de cartas."
   ]
  }
 ],
 "metadata": {
  "kernelspec": {
   "display_name": "Python 3 (ipykernel)",
   "language": "python",
   "name": "python3"
  },
  "language_info": {
   "codemirror_mode": {
    "name": "ipython",
    "version": 3
   },
   "file_extension": ".py",
   "mimetype": "text/x-python",
   "name": "python",
   "nbconvert_exporter": "python",
   "pygments_lexer": "ipython3",
   "version": "3.12.2"
  }
 },
 "nbformat": 4,
 "nbformat_minor": 5
}

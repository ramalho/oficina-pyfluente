{
 "cells": [
  {
   "cell_type": "code",
   "execution_count": 19,
   "id": "2ae912d2-9b4b-4522-b8b7-199eccdfd323",
   "metadata": {},
   "outputs": [],
   "source": [
    "from typing import NamedTuple\n",
    "\n",
    "class Coordinate(NamedTuple):\n",
    "    lat: float\n",
    "    lon: float\n",
    "\n",
    "    def __str__(self):\n",
    "        return f'<{self.lat} : {self.lon}>'"
   ]
  },
  {
   "cell_type": "code",
   "execution_count": 20,
   "id": "c60997c5-b7b7-4fd4-b37a-9408fbe53d37",
   "metadata": {},
   "outputs": [],
   "source": [
    "sp = Coordinate(23, 46)"
   ]
  },
  {
   "cell_type": "code",
   "execution_count": 21,
   "id": "cc67553d-08a2-4bda-81e3-7f61550d98b4",
   "metadata": {},
   "outputs": [
    {
     "data": {
      "text/plain": [
       "Coordinate(lat=23, lon=46)"
      ]
     },
     "execution_count": 21,
     "metadata": {},
     "output_type": "execute_result"
    }
   ],
   "source": [
    "sp"
   ]
  },
  {
   "cell_type": "code",
   "execution_count": 22,
   "id": "4d078131-c77b-4b6f-b0aa-71603624bf23",
   "metadata": {},
   "outputs": [
    {
     "name": "stdout",
     "output_type": "stream",
     "text": [
      "<23 : 46>\n"
     ]
    }
   ],
   "source": [
    "print(sp)"
   ]
  },
  {
   "cell_type": "code",
   "execution_count": 23,
   "id": "fea96d5a-ac01-4481-b2f2-4d22e8285741",
   "metadata": {},
   "outputs": [],
   "source": [
    "lixo = Coordinate('sul', 'oeste')"
   ]
  },
  {
   "cell_type": "code",
   "execution_count": 24,
   "id": "77beff76-2983-465a-9bb7-c8375c506e9c",
   "metadata": {},
   "outputs": [
    {
     "data": {
      "text/plain": [
       "Coordinate(lat='sul', lon='oeste')"
      ]
     },
     "execution_count": 24,
     "metadata": {},
     "output_type": "execute_result"
    }
   ],
   "source": [
    "lixo"
   ]
  },
  {
   "cell_type": "code",
   "execution_count": 25,
   "id": "d34b31d4-f4c8-46f9-8b24-34ebfa2e99da",
   "metadata": {},
   "outputs": [
    {
     "name": "stdout",
     "output_type": "stream",
     "text": [
      "<sul : oeste>\n"
     ]
    }
   ],
   "source": [
    "print(lixo)"
   ]
  },
  {
   "cell_type": "code",
   "execution_count": 26,
   "id": "d7d574eb-932b-4fba-a231-67d564c040bb",
   "metadata": {},
   "outputs": [],
   "source": [
    "class DemoPlainClass:\n",
    "    a: int           # (1)\n",
    "    b: float = 1.1   # (2)\n",
    "    c = 'spam'       # (3)"
   ]
  },
  {
   "cell_type": "code",
   "execution_count": 32,
   "id": "908dc1cc-7642-45d7-8688-9032dd6d1ea6",
   "metadata": {},
   "outputs": [
    {
     "data": {
      "text/plain": [
       "'spam'"
      ]
     },
     "execution_count": 32,
     "metadata": {},
     "output_type": "execute_result"
    }
   ],
   "source": [
    "DemoPlainClass.c"
   ]
  },
  {
   "cell_type": "code",
   "execution_count": 30,
   "id": "a3b74b0c-1604-41bb-b11b-68d7c32d796d",
   "metadata": {},
   "outputs": [
    {
     "data": {
      "text/plain": [
       "{'a': int, 'b': float}"
      ]
     },
     "execution_count": 30,
     "metadata": {},
     "output_type": "execute_result"
    }
   ],
   "source": [
    "DemoPlainClass.__annotations__"
   ]
  },
  {
   "cell_type": "code",
   "execution_count": 35,
   "id": "f600f4db-d45a-44c1-9283-8afb8a8d038e",
   "metadata": {},
   "outputs": [],
   "source": [
    "d = DemoPlainClass()"
   ]
  },
  {
   "cell_type": "code",
   "execution_count": 36,
   "id": "06aab36f-1bf2-496d-ae9b-d8a7b9709590",
   "metadata": {},
   "outputs": [
    {
     "data": {
      "text/plain": [
       "<__main__.DemoPlainClass at 0x7b0e4d129d00>"
      ]
     },
     "execution_count": 36,
     "metadata": {},
     "output_type": "execute_result"
    }
   ],
   "source": [
    "d"
   ]
  },
  {
   "cell_type": "code",
   "execution_count": 37,
   "id": "3b74d589-ad68-485b-8fcd-bee46a89b713",
   "metadata": {},
   "outputs": [],
   "source": [
    "d.a = 42"
   ]
  },
  {
   "cell_type": "code",
   "execution_count": 38,
   "id": "98cfca61-6c22-40b5-a8cf-091895be4024",
   "metadata": {},
   "outputs": [],
   "source": [
    "d.b = 'bla'"
   ]
  },
  {
   "cell_type": "code",
   "execution_count": 39,
   "id": "a9c227de-049c-46f7-96d7-cc37eedc11ae",
   "metadata": {},
   "outputs": [],
   "source": [
    "import typing\n",
    "\n",
    "class DemoNTClass(typing.NamedTuple):\n",
    "    a: int           # (1)\n",
    "    b: float = 1.1   # (2)\n",
    "    c = 'spam'       # (3)"
   ]
  },
  {
   "cell_type": "code",
   "execution_count": 40,
   "id": "96f95f90-3358-4802-9041-15760f0eda39",
   "metadata": {},
   "outputs": [
    {
     "data": {
      "text/plain": [
       "{'a': int, 'b': float}"
      ]
     },
     "execution_count": 40,
     "metadata": {},
     "output_type": "execute_result"
    }
   ],
   "source": [
    "DemoNTClass.__annotations__"
   ]
  },
  {
   "cell_type": "code",
   "execution_count": 42,
   "id": "711479e2-7135-4a5c-8b75-b116719eaa7e",
   "metadata": {},
   "outputs": [],
   "source": [
    "t = DemoNTClass(1, 2.0)"
   ]
  },
  {
   "cell_type": "code",
   "execution_count": 43,
   "id": "a2c94b29-f2a7-4efd-8eed-c2acd733d9c5",
   "metadata": {},
   "outputs": [
    {
     "data": {
      "text/plain": [
       "DemoNTClass(a=1, b=2.0)"
      ]
     },
     "execution_count": 43,
     "metadata": {},
     "output_type": "execute_result"
    }
   ],
   "source": [
    "t"
   ]
  },
  {
   "cell_type": "code",
   "execution_count": 44,
   "id": "e64bf898-2ea4-47b2-8ff3-de903cfae69e",
   "metadata": {},
   "outputs": [
    {
     "data": {
      "text/plain": [
       "(1, 2.0)"
      ]
     },
     "execution_count": 44,
     "metadata": {},
     "output_type": "execute_result"
    }
   ],
   "source": [
    "t.a, t.b"
   ]
  },
  {
   "cell_type": "code",
   "execution_count": 47,
   "id": "66def6c5-df71-4a2f-bbb5-0ea180ad2174",
   "metadata": {},
   "outputs": [
    {
     "data": {
      "text/plain": [
       "_tuplegetter(0, 'Alias for field number 0')"
      ]
     },
     "execution_count": 47,
     "metadata": {},
     "output_type": "execute_result"
    }
   ],
   "source": [
    "DemoNTClass.a"
   ]
  },
  {
   "cell_type": "code",
   "execution_count": 48,
   "id": "a4181234-c2fa-43d2-bf54-cf2853f8d24a",
   "metadata": {},
   "outputs": [
    {
     "data": {
      "text/plain": [
       "1"
      ]
     },
     "execution_count": 48,
     "metadata": {},
     "output_type": "execute_result"
    }
   ],
   "source": [
    "t.a"
   ]
  },
  {
   "cell_type": "code",
   "execution_count": 49,
   "id": "d3325f42-882d-47cd-92d1-05766f1d3371",
   "metadata": {},
   "outputs": [
    {
     "data": {
      "text/plain": [
       "'spam'"
      ]
     },
     "execution_count": 49,
     "metadata": {},
     "output_type": "execute_result"
    }
   ],
   "source": [
    "t.c"
   ]
  },
  {
   "cell_type": "code",
   "execution_count": 54,
   "id": "8b769332-f1bf-46ce-8ee7-c58f7a73d033",
   "metadata": {},
   "outputs": [
    {
     "data": {
      "text/plain": [
       "()"
      ]
     },
     "execution_count": 54,
     "metadata": {},
     "output_type": "execute_result"
    }
   ],
   "source": [
    "DemoNTClass.__slots__"
   ]
  },
  {
   "cell_type": "code",
   "execution_count": 65,
   "id": "3406fef5-489a-42f5-9b9a-50f3f56c54c7",
   "metadata": {},
   "outputs": [
    {
     "data": {
      "text/plain": [
       "()"
      ]
     },
     "execution_count": 65,
     "metadata": {},
     "output_type": "execute_result"
    }
   ],
   "source": []
  },
  {
   "cell_type": "code",
   "execution_count": 56,
   "id": "ab4a89c9-3c49-4020-b543-7d620251efee",
   "metadata": {},
   "outputs": [
    {
     "ename": "AttributeError",
     "evalue": "'DemoNTClass' object attribute 'c' is read-only",
     "output_type": "error",
     "traceback": [
      "\u001b[0;31m---------------------------------------------------------------------------\u001b[0m",
      "\u001b[0;31mAttributeError\u001b[0m                            Traceback (most recent call last)",
      "Cell \u001b[0;32mIn[56], line 1\u001b[0m\n\u001b[0;32m----> 1\u001b[0m \u001b[43mt\u001b[49m\u001b[38;5;241;43m.\u001b[39;49m\u001b[43mc\u001b[49m \u001b[38;5;241m=\u001b[39m \u001b[38;5;124m'\u001b[39m\u001b[38;5;124mbla\u001b[39m\u001b[38;5;124m'\u001b[39m\n",
      "\u001b[0;31mAttributeError\u001b[0m: 'DemoNTClass' object attribute 'c' is read-only"
     ]
    }
   ],
   "source": [
    "t.c = 'bla'"
   ]
  },
  {
   "cell_type": "code",
   "execution_count": 57,
   "id": "218430dd-7675-42b3-a7ab-27fec26bcae6",
   "metadata": {},
   "outputs": [],
   "source": [
    "class DemoSlots:\n",
    "    __slots__ = ('x', 'y')"
   ]
  },
  {
   "cell_type": "code",
   "execution_count": 58,
   "id": "35d7ec1c-39f9-4bc1-bd36-ec799f7485d1",
   "metadata": {},
   "outputs": [],
   "source": [
    "s = DemoSlots()"
   ]
  },
  {
   "cell_type": "code",
   "execution_count": 62,
   "id": "8fc425d0-158d-4327-aa08-da2e7194a5bd",
   "metadata": {},
   "outputs": [],
   "source": [
    "s.x = 'X'"
   ]
  },
  {
   "cell_type": "code",
   "execution_count": 63,
   "id": "aded6f4c-7907-4222-aeaa-f7b4f321bff7",
   "metadata": {},
   "outputs": [
    {
     "data": {
      "text/plain": [
       "'X'"
      ]
     },
     "execution_count": 63,
     "metadata": {},
     "output_type": "execute_result"
    }
   ],
   "source": [
    "s.x"
   ]
  },
  {
   "cell_type": "code",
   "execution_count": 64,
   "id": "c42a759c-122b-447d-a6d4-ebc9253c5182",
   "metadata": {},
   "outputs": [
    {
     "ename": "AttributeError",
     "evalue": "'DemoSlots' object has no attribute 'a'",
     "output_type": "error",
     "traceback": [
      "\u001b[0;31m---------------------------------------------------------------------------\u001b[0m",
      "\u001b[0;31mAttributeError\u001b[0m                            Traceback (most recent call last)",
      "Cell \u001b[0;32mIn[64], line 1\u001b[0m\n\u001b[0;32m----> 1\u001b[0m \u001b[43ms\u001b[49m\u001b[38;5;241;43m.\u001b[39;49m\u001b[43ma\u001b[49m \u001b[38;5;241m=\u001b[39m \u001b[38;5;124m'\u001b[39m\u001b[38;5;124mA\u001b[39m\u001b[38;5;124m'\u001b[39m\n",
      "\u001b[0;31mAttributeError\u001b[0m: 'DemoSlots' object has no attribute 'a'"
     ]
    }
   ],
   "source": [
    "s.a = 'A'"
   ]
  },
  {
   "cell_type": "code",
   "execution_count": 71,
   "id": "2386dd02-796e-4c30-8c3c-2017e447000d",
   "metadata": {},
   "outputs": [],
   "source": [
    "from dataclasses import dataclass, field\n",
    "\n",
    "@dataclass\n",
    "class ClubMember:\n",
    "    name: str\n",
    "    guests: list[str] = []  # (1)"
   ]
  },
  {
   "cell_type": "code",
   "execution_count": 73,
   "id": "23513871-1c5d-4630-a2e1-c03c09ec7dd5",
   "metadata": {},
   "outputs": [],
   "source": [
    "ze = ClubMember()"
   ]
  },
  {
   "cell_type": "code",
   "execution_count": 76,
   "id": "b5cdb04e-cf71-4743-92fa-b56377255fef",
   "metadata": {},
   "outputs": [],
   "source": [
    "ze.guests.append('Mara')"
   ]
  },
  {
   "cell_type": "code",
   "execution_count": 77,
   "id": "eed01fa7-80f2-492f-9b68-797a94f0de5c",
   "metadata": {},
   "outputs": [
    {
     "data": {
      "text/plain": [
       "['Mara']"
      ]
     },
     "execution_count": 77,
     "metadata": {},
     "output_type": "execute_result"
    }
   ],
   "source": [
    "ze.guests"
   ]
  },
  {
   "cell_type": "code",
   "execution_count": 78,
   "id": "399b4a27-fe4d-4993-b90a-fefa78e4e998",
   "metadata": {},
   "outputs": [],
   "source": [
    "ana = ClubMember()"
   ]
  },
  {
   "cell_type": "code",
   "execution_count": 79,
   "id": "976430af-5494-433e-ab9a-9a6e9ab7987d",
   "metadata": {},
   "outputs": [],
   "source": [
    "ana.guests.append('Juca')"
   ]
  },
  {
   "cell_type": "code",
   "execution_count": 80,
   "id": "63d75a73-a639-4c14-83f0-37f4760b8e16",
   "metadata": {},
   "outputs": [
    {
     "data": {
      "text/plain": [
       "['Mara', 'Juca']"
      ]
     },
     "execution_count": 80,
     "metadata": {},
     "output_type": "execute_result"
    }
   ],
   "source": [
    "ana.guests"
   ]
  },
  {
   "cell_type": "code",
   "execution_count": 81,
   "id": "43214d49-ea97-4ee4-8325-a56e21407862",
   "metadata": {},
   "outputs": [
    {
     "data": {
      "text/plain": [
       "['Mara', 'Juca']"
      ]
     },
     "execution_count": 81,
     "metadata": {},
     "output_type": "execute_result"
    }
   ],
   "source": [
    "ze.guests"
   ]
  },
  {
   "cell_type": "code",
   "execution_count": 95,
   "id": "9430efe8-382e-4ab9-8505-44f7a5df3ddd",
   "metadata": {},
   "outputs": [
    {
     "ename": "TypeError",
     "evalue": "field() got an unexpected keyword argument 'defaut'",
     "output_type": "error",
     "traceback": [
      "\u001b[0;31m---------------------------------------------------------------------------\u001b[0m",
      "\u001b[0;31mTypeError\u001b[0m                                 Traceback (most recent call last)",
      "Cell \u001b[0;32mIn[95], line 2\u001b[0m\n\u001b[1;32m      1\u001b[0m \u001b[38;5;129;43m@dataclass\u001b[39;49m\n\u001b[0;32m----> 2\u001b[0m \u001b[38;5;28;43;01mclass\u001b[39;49;00m\u001b[43m \u001b[49m\u001b[38;5;21;43;01mClubMember\u001b[39;49;00m\u001b[43m:\u001b[49m\n\u001b[1;32m      3\u001b[0m \u001b[43m    \u001b[49m\u001b[43mname\u001b[49m\u001b[43m:\u001b[49m\u001b[43m \u001b[49m\u001b[38;5;28;43mstr\u001b[39;49m\n\u001b[1;32m      4\u001b[0m \u001b[43m    \u001b[49m\u001b[43mstatus\u001b[49m\u001b[43m:\u001b[49m\u001b[43m \u001b[49m\u001b[38;5;28;43mstr\u001b[39;49m\u001b[43m \u001b[49m\u001b[38;5;241;43m=\u001b[39;49m\u001b[43m \u001b[49m\u001b[43mfield\u001b[49m\u001b[43m(\u001b[49m\u001b[43mdefaut\u001b[49m\u001b[38;5;241;43m=\u001b[39;49m\u001b[38;5;124;43m'\u001b[39;49m\u001b[38;5;124;43mativo\u001b[39;49m\u001b[38;5;124;43m'\u001b[39;49m\u001b[43m,\u001b[49m\u001b[43m \u001b[49m\u001b[38;5;28;43mrepr\u001b[39;49m\u001b[38;5;241;43m=\u001b[39;49m\u001b[38;5;28;43;01mFalse\u001b[39;49;00m\u001b[43m)\u001b[49m\n",
      "Cell \u001b[0;32mIn[95], line 4\u001b[0m, in \u001b[0;36mClubMember\u001b[0;34m()\u001b[0m\n\u001b[1;32m      1\u001b[0m \u001b[38;5;129m@dataclass\u001b[39m\n\u001b[1;32m      2\u001b[0m \u001b[38;5;28;01mclass\u001b[39;00m \u001b[38;5;21;01mClubMember\u001b[39;00m:\n\u001b[1;32m      3\u001b[0m     name: \u001b[38;5;28mstr\u001b[39m\n\u001b[0;32m----> 4\u001b[0m     status: \u001b[38;5;28mstr\u001b[39m \u001b[38;5;241m=\u001b[39m \u001b[43mfield\u001b[49m\u001b[43m(\u001b[49m\u001b[43mdefaut\u001b[49m\u001b[38;5;241;43m=\u001b[39;49m\u001b[38;5;124;43m'\u001b[39;49m\u001b[38;5;124;43mativo\u001b[39;49m\u001b[38;5;124;43m'\u001b[39;49m\u001b[43m,\u001b[49m\u001b[43m \u001b[49m\u001b[38;5;28;43mrepr\u001b[39;49m\u001b[38;5;241;43m=\u001b[39;49m\u001b[38;5;28;43;01mFalse\u001b[39;49;00m\u001b[43m)\u001b[49m\n\u001b[1;32m      5\u001b[0m     guests: \u001b[38;5;28mlist\u001b[39m \u001b[38;5;241m=\u001b[39m field(default_factory\u001b[38;5;241m=\u001b[39m\u001b[38;5;28mlist\u001b[39m)\n",
      "\u001b[0;31mTypeError\u001b[0m: field() got an unexpected keyword argument 'defaut'"
     ]
    }
   ],
   "source": [
    "@dataclass\n",
    "class ClubMember:\n",
    "    name: str\n",
    "    status: str = field(defaut='ativo', repr=False)\n",
    "    guests: list = field(default_factory=list)\n"
   ]
  },
  {
   "cell_type": "code",
   "execution_count": 94,
   "id": "7ca7e7d5-b442-49f4-8645-0625870546b2",
   "metadata": {},
   "outputs": [
    {
     "ename": "TypeError",
     "evalue": "ClubMember.__init__() missing 1 required positional argument: 'status'",
     "output_type": "error",
     "traceback": [
      "\u001b[0;31m---------------------------------------------------------------------------\u001b[0m",
      "\u001b[0;31mTypeError\u001b[0m                                 Traceback (most recent call last)",
      "Cell \u001b[0;32mIn[94], line 1\u001b[0m\n\u001b[0;32m----> 1\u001b[0m ana \u001b[38;5;241m=\u001b[39m \u001b[43mClubMember\u001b[49m\u001b[43m(\u001b[49m\u001b[38;5;124;43m'\u001b[39;49m\u001b[38;5;124;43mAna\u001b[39;49m\u001b[38;5;124;43m'\u001b[39;49m\u001b[43m)\u001b[49m\n",
      "\u001b[0;31mTypeError\u001b[0m: ClubMember.__init__() missing 1 required positional argument: 'status'"
     ]
    }
   ],
   "source": [
    "ana = ClubMember('Ana')"
   ]
  },
  {
   "cell_type": "code",
   "execution_count": 91,
   "id": "e0a8aec1-97c0-4d40-a537-eabc7e36de4f",
   "metadata": {},
   "outputs": [
    {
     "data": {
      "text/plain": [
       "ClubMember(name='Ana', guests=[], status='ativo')"
      ]
     },
     "execution_count": 91,
     "metadata": {},
     "output_type": "execute_result"
    }
   ],
   "source": [
    "ana"
   ]
  },
  {
   "cell_type": "code",
   "execution_count": 96,
   "id": "689bbe6f-0107-4186-bf68-427b39c86463",
   "metadata": {},
   "outputs": [
    {
     "ename": "SyntaxError",
     "evalue": "parameter without a default follows parameter with a default (717571592.py, line 1)",
     "output_type": "error",
     "traceback": [
      "\u001b[0;36m  Cell \u001b[0;32mIn[96], line 1\u001b[0;36m\u001b[0m\n\u001b[0;31m    def f(a, b=0, c):\u001b[0m\n\u001b[0m                  ^\u001b[0m\n\u001b[0;31mSyntaxError\u001b[0m\u001b[0;31m:\u001b[0m parameter without a default follows parameter with a default\n"
     ]
    }
   ],
   "source": [
    "def f(a, b=0, c):\n",
    "    return, a, b, c"
   ]
  },
  {
   "cell_type": "code",
   "execution_count": null,
   "id": "11aa0609-1380-4523-a02b-e6d5ffb18767",
   "metadata": {},
   "outputs": [],
   "source": []
  }
 ],
 "metadata": {
  "kernelspec": {
   "display_name": "Python 3 (ipykernel)",
   "language": "python",
   "name": "python3"
  },
  "language_info": {
   "codemirror_mode": {
    "name": "ipython",
    "version": 3
   },
   "file_extension": ".py",
   "mimetype": "text/x-python",
   "name": "python",
   "nbconvert_exporter": "python",
   "pygments_lexer": "ipython3",
   "version": "3.12.3"
  }
 },
 "nbformat": 4,
 "nbformat_minor": 5
}

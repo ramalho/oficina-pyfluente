{
 "cells": [
  {
   "cell_type": "code",
   "execution_count": 6,
   "id": "5cf38984-6c63-4734-8468-971a1887cc57",
   "metadata": {},
   "outputs": [],
   "source": [
    "def tipada(classe):\n",
    "    return classe"
   ]
  },
  {
   "cell_type": "code",
   "execution_count": 7,
   "id": "fb7c8970-103b-4a37-a2a5-e9ac69842a4a",
   "metadata": {},
   "outputs": [],
   "source": [
    "@tipada\n",
    "class Pet:\n",
    "    nome: str\n",
    "    peso: float"
   ]
  },
  {
   "cell_type": "code",
   "execution_count": 8,
   "id": "336ce41d-f560-413e-9b90-1fbf1ed30892",
   "metadata": {},
   "outputs": [
    {
     "ename": "TypeError",
     "evalue": "Pet() takes no arguments",
     "output_type": "error",
     "traceback": [
      "\u001b[0;31m---------------------------------------------------------------------------\u001b[0m",
      "\u001b[0;31mTypeError\u001b[0m                                 Traceback (most recent call last)",
      "Cell \u001b[0;32mIn[8], line 1\u001b[0m\n\u001b[0;32m----> 1\u001b[0m rex \u001b[38;5;241m=\u001b[39m \u001b[43mPet\u001b[49m\u001b[43m(\u001b[49m\u001b[38;5;124;43m'\u001b[39;49m\u001b[38;5;124;43mRex\u001b[39;49m\u001b[38;5;124;43m'\u001b[39;49m\u001b[43m,\u001b[49m\u001b[43m \u001b[49m\u001b[38;5;241;43m7.5\u001b[39;49m\u001b[43m)\u001b[49m\n",
      "\u001b[0;31mTypeError\u001b[0m: Pet() takes no arguments"
     ]
    }
   ],
   "source": [
    "rex = Pet('Rex', 7.5)"
   ]
  },
  {
   "cell_type": "code",
   "execution_count": 9,
   "id": "965d89e1-9f06-44c8-961f-218316deb4f9",
   "metadata": {},
   "outputs": [
    {
     "data": {
      "text/plain": [
       "{'nome': str, 'peso': float}"
      ]
     },
     "execution_count": 9,
     "metadata": {},
     "output_type": "execute_result"
    }
   ],
   "source": [
    "Pet.__annotations__"
   ]
  },
  {
   "cell_type": "code",
   "execution_count": 26,
   "id": "a3a1dbc3-c5dd-47d3-8ad5-6754782aa10b",
   "metadata": {},
   "outputs": [],
   "source": [
    "def inicializar(objeto, *args):\n",
    "    dicas = objeto.__annotations__\n",
    "    if len(dicas) != len(args):\n",
    "        raise TypeError(f'Obrigatório informar {', '.join(dicas.keys())}')\n",
    "    for nome, arg in zip(dicas, args):\n",
    "        setattr(objeto, nome, arg)"
   ]
  },
  {
   "cell_type": "code",
   "execution_count": 23,
   "id": "5a501a29-af3a-42df-abde-1dc95ba3f733",
   "metadata": {},
   "outputs": [],
   "source": [
    "fido = Pet()"
   ]
  },
  {
   "cell_type": "code",
   "execution_count": 28,
   "id": "159c3fdd-8361-4252-9d74-3b3493478678",
   "metadata": {},
   "outputs": [],
   "source": [
    "inicializar(fido, 'Fido', 6)"
   ]
  },
  {
   "cell_type": "code",
   "execution_count": 29,
   "id": "5b169a25-55c1-4cfe-b777-78b7a41f940c",
   "metadata": {},
   "outputs": [
    {
     "data": {
      "text/plain": [
       "{'nome': 'Fido', 'peso': 6}"
      ]
     },
     "execution_count": 29,
     "metadata": {},
     "output_type": "execute_result"
    }
   ],
   "source": [
    "fido.__dict__"
   ]
  },
  {
   "cell_type": "code",
   "execution_count": 72,
   "id": "c38f4bb7-562f-4dc2-ad9c-65089b782d3f",
   "metadata": {},
   "outputs": [],
   "source": [
    "def representar(objeto):\n",
    "    valores = [repr(valor) for valor in objeto.__dict__.values()]\n",
    "    return f'{type(objeto).__name__}({', '.join(valores)})'"
   ]
  },
  {
   "cell_type": "code",
   "execution_count": 73,
   "id": "4a3e48b6-5712-49eb-b00e-2379bc1c2050",
   "metadata": {},
   "outputs": [
    {
     "data": {
      "text/plain": [
       "\"Pet('Fido', 6)\""
      ]
     },
     "execution_count": 73,
     "metadata": {},
     "output_type": "execute_result"
    }
   ],
   "source": [
    "representar(fido)"
   ]
  },
  {
   "cell_type": "code",
   "execution_count": 74,
   "id": "c80d7848-c95c-47b1-b7a1-39821fd77f35",
   "metadata": {},
   "outputs": [
    {
     "data": {
      "text/plain": [
       "float"
      ]
     },
     "execution_count": 74,
     "metadata": {},
     "output_type": "execute_result"
    }
   ],
   "source": [
    "type(1.0)"
   ]
  },
  {
   "cell_type": "code",
   "execution_count": 75,
   "id": "51aa2522-4d93-40c9-a4f5-fabd0fdeb6e2",
   "metadata": {},
   "outputs": [
    {
     "data": {
      "text/plain": [
       "\u001b[0;31mInit signature:\u001b[0m  \u001b[0mtype\u001b[0m\u001b[0;34m(\u001b[0m\u001b[0mself\u001b[0m\u001b[0;34m,\u001b[0m \u001b[0;34m/\u001b[0m\u001b[0;34m,\u001b[0m \u001b[0;34m*\u001b[0m\u001b[0margs\u001b[0m\u001b[0;34m,\u001b[0m \u001b[0;34m**\u001b[0m\u001b[0mkwargs\u001b[0m\u001b[0;34m)\u001b[0m\u001b[0;34m\u001b[0m\u001b[0;34m\u001b[0m\u001b[0m\n",
       "\u001b[0;31mDocstring:\u001b[0m     \n",
       "type(object) -> the object's type\n",
       "type(name, bases, dict, **kwds) -> a new type\n",
       "\u001b[0;31mType:\u001b[0m           type\n",
       "\u001b[0;31mSubclasses:\u001b[0m     ABCMeta, EnumType, _AnyMeta, NamedTupleMeta, _TypedDictMeta, _DeprecatedType, _ABC, MetaHasDescriptors, _TzSingleton, _TzFactory, ..."
      ]
     },
     "metadata": {},
     "output_type": "display_data"
    }
   ],
   "source": [
    "?? type"
   ]
  },
  {
   "cell_type": "code",
   "execution_count": 76,
   "id": "0558ba00-f6d3-4cf4-ba8b-64bacc6bf0a2",
   "metadata": {},
   "outputs": [],
   "source": [
    "class NomeDaClasse:\n",
    "    x = 10\n"
   ]
  },
  {
   "cell_type": "code",
   "execution_count": 77,
   "id": "77b853e7-1c95-49db-8654-b35245ff243c",
   "metadata": {},
   "outputs": [],
   "source": [
    "NomeDaClasse = type('NomeDaClasse', (str, ), {'x': 10})"
   ]
  },
  {
   "cell_type": "code",
   "execution_count": 78,
   "id": "5bad6603-215d-46f9-bc45-eec3a744663f",
   "metadata": {},
   "outputs": [],
   "source": [
    "def auto(classe):\n",
    "    return type(classe.__name__, (), {\n",
    "        '__init__': inicializar, \n",
    "        '__repr__': representar,\n",
    "        '__annotations__': classe.__annotations__}\n",
    "    )"
   ]
  },
  {
   "cell_type": "code",
   "execution_count": 79,
   "id": "cd5e2511-9cbd-4f7c-8227-bb2d12d33d5a",
   "metadata": {},
   "outputs": [],
   "source": [
    "@auto\n",
    "class Pet:\n",
    "    nome: str\n",
    "    peso: float\n",
    "\n",
    "felix = Pet('Felix', 3)"
   ]
  },
  {
   "cell_type": "code",
   "execution_count": 80,
   "id": "654477ec-0c06-4808-8f42-cbdddc5e9ae9",
   "metadata": {},
   "outputs": [
    {
     "data": {
      "text/plain": [
       "Pet('Felix', 3)"
      ]
     },
     "execution_count": 80,
     "metadata": {},
     "output_type": "execute_result"
    }
   ],
   "source": [
    "felix"
   ]
  },
  {
   "cell_type": "code",
   "execution_count": 81,
   "id": "d75783fb-2541-4ac0-8ec6-4621819160ca",
   "metadata": {},
   "outputs": [
    {
     "data": {
      "text/plain": [
       "[(1, 'a'), (2, 'b'), (3, 'c')]"
      ]
     },
     "execution_count": 81,
     "metadata": {},
     "output_type": "execute_result"
    }
   ],
   "source": [
    "l = [1, 2, 3]\n",
    "m = ['a', 'b', 'c']\n",
    "list(zip(l, m))"
   ]
  },
  {
   "cell_type": "code",
   "execution_count": 107,
   "id": "1e25cf65-c843-4dc9-b863-730b7e78462b",
   "metadata": {},
   "outputs": [],
   "source": [
    "def inicializar_estrito(objeto, *args):\n",
    "    dicas = objeto.__annotations__\n",
    "    if len(dicas) != len(args):\n",
    "        raise TypeError(f'Obrigatório informar {', '.join(dicas.keys())}')\n",
    "    for nome, arg in zip(dicas, args):\n",
    "        if dicas[nome] is float:\n",
    "            tipo = (int, float)\n",
    "            arg = float(arg)\n",
    "        else:\n",
    "            tipo = dicas[nome]\n",
    "        if isinstance(arg, tipo):\n",
    "            setattr(objeto, nome, arg)\n",
    "        else:\n",
    "            raise TypeError(f'Atributo {nome} deve ser {dicas[nome].__name__}')"
   ]
  },
  {
   "cell_type": "code",
   "execution_count": 83,
   "id": "c36dfafb-da1e-4ac6-bebb-47c54a54e665",
   "metadata": {},
   "outputs": [],
   "source": [
    "p = Pet('P', 0.0)"
   ]
  },
  {
   "cell_type": "code",
   "execution_count": 84,
   "id": "cfc22d98-5879-4f22-85aa-2c18ce8abcd3",
   "metadata": {},
   "outputs": [],
   "source": [
    "inicializar_estrito(p, 'X', 5.5) "
   ]
  },
  {
   "cell_type": "code",
   "execution_count": 85,
   "id": "79774c89-6c61-4792-9490-43dd4a0ddc2c",
   "metadata": {},
   "outputs": [
    {
     "data": {
      "text/plain": [
       "Pet('X', 5.5)"
      ]
     },
     "execution_count": 85,
     "metadata": {},
     "output_type": "execute_result"
    }
   ],
   "source": [
    "p"
   ]
  },
  {
   "cell_type": "code",
   "execution_count": 86,
   "id": "98e1ab46-ca32-455f-9809-3c161421dac2",
   "metadata": {},
   "outputs": [],
   "source": [
    "def tipada(classe):\n",
    "    return type(classe.__name__, (), {\n",
    "        '__init__': inicializar_estrito, \n",
    "        '__repr__': representar,\n",
    "        '__annotations__': classe.__annotations__}\n",
    "    )"
   ]
  },
  {
   "cell_type": "code",
   "execution_count": 108,
   "id": "f9e5a896-757a-4771-a287-092130e4f5eb",
   "metadata": {},
   "outputs": [],
   "source": [
    "@tipada\n",
    "class Pet:\n",
    "    nome: str\n",
    "    peso: float"
   ]
  },
  {
   "cell_type": "code",
   "execution_count": 113,
   "id": "3812bfec-f771-42f9-b57b-9b45138b46c1",
   "metadata": {},
   "outputs": [],
   "source": [
    "lulu = Pet('Lulu', 6)"
   ]
  },
  {
   "cell_type": "code",
   "execution_count": 114,
   "id": "867c5659-77e4-42d3-a3dd-672e184b6f45",
   "metadata": {},
   "outputs": [
    {
     "data": {
      "text/plain": [
       "Pet('Lulu', 6.0)"
      ]
     },
     "execution_count": 114,
     "metadata": {},
     "output_type": "execute_result"
    }
   ],
   "source": [
    "lulu"
   ]
  },
  {
   "cell_type": "code",
   "execution_count": 106,
   "id": "07230d94-2822-432b-bb12-6d92ec8fe5e2",
   "metadata": {},
   "outputs": [
    {
     "ename": "TypeError",
     "evalue": "Atributo peso deve ser float",
     "output_type": "error",
     "traceback": [
      "\u001b[0;31m---------------------------------------------------------------------------\u001b[0m",
      "\u001b[0;31mTypeError\u001b[0m                                 Traceback (most recent call last)",
      "Cell \u001b[0;32mIn[106], line 1\u001b[0m\n\u001b[0;32m----> 1\u001b[0m lulu \u001b[38;5;241m=\u001b[39m \u001b[43mPet\u001b[49m\u001b[43m(\u001b[49m\u001b[38;5;124;43m'\u001b[39;49m\u001b[38;5;124;43mLulu\u001b[39;49m\u001b[38;5;124;43m'\u001b[39;49m\u001b[43m,\u001b[49m\u001b[43m \u001b[49m\u001b[38;5;124;43m'\u001b[39;49m\u001b[38;5;124;43mx\u001b[39;49m\u001b[38;5;124;43m'\u001b[39;49m\u001b[43m)\u001b[49m\n",
      "Cell \u001b[0;32mIn[99], line 13\u001b[0m, in \u001b[0;36minicializar_estrito\u001b[0;34m(objeto, *args)\u001b[0m\n\u001b[1;32m     11\u001b[0m     \u001b[38;5;28msetattr\u001b[39m(objeto, nome, arg)\n\u001b[1;32m     12\u001b[0m \u001b[38;5;28;01melse\u001b[39;00m:\n\u001b[0;32m---> 13\u001b[0m     \u001b[38;5;28;01mraise\u001b[39;00m \u001b[38;5;167;01mTypeError\u001b[39;00m(\u001b[38;5;124mf\u001b[39m\u001b[38;5;124m'\u001b[39m\u001b[38;5;124mAtributo \u001b[39m\u001b[38;5;132;01m{\u001b[39;00mnome\u001b[38;5;132;01m}\u001b[39;00m\u001b[38;5;124m deve ser \u001b[39m\u001b[38;5;132;01m{\u001b[39;00mdicas[nome]\u001b[38;5;241m.\u001b[39m\u001b[38;5;18m__name__\u001b[39m\u001b[38;5;132;01m}\u001b[39;00m\u001b[38;5;124m'\u001b[39m)\n",
      "\u001b[0;31mTypeError\u001b[0m: Atributo peso deve ser float"
     ]
    }
   ],
   "source": [
    "lulu = Pet('Lulu', 'x')"
   ]
  },
  {
   "cell_type": "code",
   "execution_count": 105,
   "id": "c61962af-28b7-4d6f-afae-c230dd775bf4",
   "metadata": {},
   "outputs": [
    {
     "data": {
      "text/plain": [
       "Pet('Lulu', 5)"
      ]
     },
     "execution_count": 105,
     "metadata": {},
     "output_type": "execute_result"
    }
   ],
   "source": [
    "lulu"
   ]
  },
  {
   "cell_type": "code",
   "execution_count": 91,
   "id": "77dbe99d-b646-48cd-99bf-31b634cb9039",
   "metadata": {},
   "outputs": [],
   "source": [
    "i = 25745730985743258732509323534562758629579435637595633758037503287504387539720576456"
   ]
  },
  {
   "cell_type": "code",
   "execution_count": 98,
   "id": "4d00ccaa-91ef-4648-abb0-7c6b3daeda6d",
   "metadata": {},
   "outputs": [
    {
     "data": {
      "text/plain": [
       "439360397205705448685974592483098659404758911508960048053904764617959875556478760423191052971529386959209913424721122682573205163181420263357263507101451221863849390798395798174868732988832115038527894247650162294630874752781380538047538246748931205903438784774231257199408105741521105117045854408331121809463511038268301885444096"
      ]
     },
     "execution_count": 98,
     "metadata": {},
     "output_type": "execute_result"
    }
   ],
   "source": [
    "i*i*i*i"
   ]
  },
  {
   "cell_type": "code",
   "execution_count": 97,
   "id": "671d53be-5c6e-46e2-baee-33256cd163c4",
   "metadata": {},
   "outputs": [
    {
     "ename": "OverflowError",
     "evalue": "int too large to convert to float",
     "output_type": "error",
     "traceback": [
      "\u001b[0;31m---------------------------------------------------------------------------\u001b[0m",
      "\u001b[0;31mOverflowError\u001b[0m                             Traceback (most recent call last)",
      "Cell \u001b[0;32mIn[97], line 1\u001b[0m\n\u001b[0;32m----> 1\u001b[0m \u001b[38;5;28;43mfloat\u001b[39;49m\u001b[43m(\u001b[49m\u001b[43mi\u001b[49m\u001b[38;5;241;43m*\u001b[39;49m\u001b[43mi\u001b[49m\u001b[38;5;241;43m*\u001b[39;49m\u001b[43mi\u001b[49m\u001b[38;5;241;43m*\u001b[39;49m\u001b[43mi\u001b[49m\u001b[43m)\u001b[49m\n",
      "\u001b[0;31mOverflowError\u001b[0m: int too large to convert to float"
     ]
    }
   ],
   "source": [
    "float(i*i*i*i)"
   ]
  },
  {
   "cell_type": "code",
   "execution_count": null,
   "id": "08998ee7-d701-4341-b6f8-84ff3975b3f1",
   "metadata": {},
   "outputs": [],
   "source": []
  }
 ],
 "metadata": {
  "kernelspec": {
   "display_name": "Python 3 (ipykernel)",
   "language": "python",
   "name": "python3"
  },
  "language_info": {
   "codemirror_mode": {
    "name": "ipython",
    "version": 3
   },
   "file_extension": ".py",
   "mimetype": "text/x-python",
   "name": "python",
   "nbconvert_exporter": "python",
   "pygments_lexer": "ipython3",
   "version": "3.12.3"
  }
 },
 "nbformat": 4,
 "nbformat_minor": 5
}

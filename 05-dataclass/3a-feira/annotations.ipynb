{
 "cells": [
  {
   "cell_type": "code",
   "execution_count": 7,
   "id": "b688c085-9266-4d14-869d-bd1000876d90",
   "metadata": {},
   "outputs": [
    {
     "data": {
      "text/plain": [
       "{}"
      ]
     },
     "execution_count": 7,
     "metadata": {},
     "output_type": "execute_result"
    }
   ],
   "source": [
    "class Gato:\n",
    "    pernas = 4\n",
    "\n",
    "felix = Gato()\n",
    "felix.__dict__"
   ]
  },
  {
   "cell_type": "code",
   "execution_count": 8,
   "id": "fbb692bd-4169-44fc-8a90-bbdcdcf28129",
   "metadata": {},
   "outputs": [
    {
     "data": {
      "text/plain": [
       "4"
      ]
     },
     "execution_count": 8,
     "metadata": {},
     "output_type": "execute_result"
    }
   ],
   "source": [
    "felix.pernas"
   ]
  },
  {
   "cell_type": "code",
   "execution_count": 9,
   "id": "8a2193b0-863a-4eee-9ab2-33be5ec3d410",
   "metadata": {},
   "outputs": [
    {
     "data": {
      "text/plain": [
       "mappingproxy({'__module__': '__main__',\n",
       "              'pernas': 4,\n",
       "              '__dict__': <attribute '__dict__' of 'Gato' objects>,\n",
       "              '__weakref__': <attribute '__weakref__' of 'Gato' objects>,\n",
       "              '__doc__': None})"
      ]
     },
     "execution_count": 9,
     "metadata": {},
     "output_type": "execute_result"
    }
   ],
   "source": [
    "Gato.__dict__"
   ]
  },
  {
   "cell_type": "code",
   "execution_count": 27,
   "id": "35cf48c2-5978-4c5b-bff5-3a37529a7648",
   "metadata": {},
   "outputs": [],
   "source": [
    "class DemoPlainClass:\n",
    "    a: int           # (1)\n",
    "    b: float = 1.1   # (2)\n",
    "    c = 'spam'       # (3)"
   ]
  },
  {
   "cell_type": "code",
   "execution_count": 28,
   "id": "1195806a-6442-4990-aaa1-4ff6ba5c613a",
   "metadata": {},
   "outputs": [
    {
     "data": {
      "text/plain": [
       "mappingproxy({'__module__': '__main__',\n",
       "              '__annotations__': {'a': int, 'b': float},\n",
       "              'b': 1.1,\n",
       "              'c': 'spam',\n",
       "              '__dict__': <attribute '__dict__' of 'DemoPlainClass' objects>,\n",
       "              '__weakref__': <attribute '__weakref__' of 'DemoPlainClass' objects>,\n",
       "              '__doc__': None})"
      ]
     },
     "execution_count": 28,
     "metadata": {},
     "output_type": "execute_result"
    }
   ],
   "source": [
    "DemoPlainClass.__dict__"
   ]
  },
  {
   "cell_type": "code",
   "execution_count": 32,
   "id": "2b9d2ea5-c008-4808-82fe-f5b0aba45d91",
   "metadata": {},
   "outputs": [
    {
     "data": {
      "text/plain": [
       "{'a': int, 'b': float}"
      ]
     },
     "execution_count": 32,
     "metadata": {},
     "output_type": "execute_result"
    }
   ],
   "source": [
    "DemoPlainClass.__annotations__"
   ]
  },
  {
   "cell_type": "code",
   "execution_count": 33,
   "id": "5e6e17c9-0127-496d-8fe3-d7fa3173e648",
   "metadata": {},
   "outputs": [],
   "source": [
    "d = DemoPlainClass()"
   ]
  },
  {
   "cell_type": "code",
   "execution_count": 36,
   "id": "18a0207a-a405-402b-a056-7e3e043e7c48",
   "metadata": {},
   "outputs": [],
   "source": [
    "d.a = 'queijo'"
   ]
  },
  {
   "cell_type": "code",
   "execution_count": 37,
   "id": "611004ba-769b-4540-95ef-47216e5e4dcb",
   "metadata": {},
   "outputs": [
    {
     "data": {
      "text/plain": [
       "{'sabor': 'queijo', 'a': 'queijo'}"
      ]
     },
     "execution_count": 37,
     "metadata": {},
     "output_type": "execute_result"
    }
   ],
   "source": [
    "d.__dict__"
   ]
  },
  {
   "cell_type": "code",
   "execution_count": 38,
   "id": "10afe17f-f35a-4c03-80ec-e3ab7d60a489",
   "metadata": {},
   "outputs": [],
   "source": [
    "import typing\n",
    "\n",
    "class DemoNTClass(typing.NamedTuple):\n",
    "    a: int           # (1)\n",
    "    b: float = 1.1   # (2)\n",
    "    c = 'spam'       # (3)"
   ]
  },
  {
   "cell_type": "code",
   "execution_count": 42,
   "id": "d54ca4bd-363a-4070-a0ad-123d76cb898d",
   "metadata": {},
   "outputs": [],
   "source": [
    "nt = DemoNTClass('42')"
   ]
  },
  {
   "cell_type": "code",
   "execution_count": 43,
   "id": "dff5daf2-6c83-44e5-b1d0-b7f45b1bcc0e",
   "metadata": {},
   "outputs": [
    {
     "data": {
      "text/plain": [
       "DemoNTClass(a='42', b=1.1)"
      ]
     },
     "execution_count": 43,
     "metadata": {},
     "output_type": "execute_result"
    }
   ],
   "source": [
    "nt"
   ]
  },
  {
   "cell_type": "code",
   "execution_count": null,
   "id": "6276b0a7-3c36-45ef-b9b8-181b1e69ace9",
   "metadata": {},
   "outputs": [],
   "source": [
    "DemoNTClass"
   ]
  }
 ],
 "metadata": {
  "kernelspec": {
   "display_name": "Python 3 (ipykernel)",
   "language": "python",
   "name": "python3"
  },
  "language_info": {
   "codemirror_mode": {
    "name": "ipython",
    "version": 3
   },
   "file_extension": ".py",
   "mimetype": "text/x-python",
   "name": "python",
   "nbconvert_exporter": "python",
   "pygments_lexer": "ipython3",
   "version": "3.12.3"
  }
 },
 "nbformat": 4,
 "nbformat_minor": 5
}

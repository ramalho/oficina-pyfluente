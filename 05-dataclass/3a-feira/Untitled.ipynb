{
 "cells": [
  {
   "cell_type": "code",
   "execution_count": 2,
   "id": "f0061b42-9b89-4d63-8270-48fe535c7bf4",
   "metadata": {},
   "outputs": [],
   "source": [
    "class Pet:\n",
    "    nome: str\n",
    "    peso: float\n",
    "\n",
    "dicas = Pet.__annotations__"
   ]
  },
  {
   "cell_type": "code",
   "execution_count": 64,
   "id": "ce8d56c5-4321-43c9-b5da-5ec5fd3cf96b",
   "metadata": {},
   "outputs": [],
   "source": [
    "def verificar(dicas, *args) -> None:\n",
    "    res = {}\n",
    "    for (nome, tipo), arg in zip(dicas.items(), args, strict=True):\n",
    "        if tipo is float:\n",
    "            tipo = (int, float)\n",
    "        if not isinstance(arg, tipo):\n",
    "            raise TypeError(f'atributo {nome} deveria ser {tipo}')\n",
    "        res[nome] = arg\n",
    "    return res"
   ]
  },
  {
   "cell_type": "code",
   "execution_count": 65,
   "id": "03da66e6-4234-49e7-a193-43a6bf6fedd3",
   "metadata": {},
   "outputs": [
    {
     "data": {
      "text/plain": [
       "{'nome': 'Felix', 'peso': 5.5}"
      ]
     },
     "execution_count": 65,
     "metadata": {},
     "output_type": "execute_result"
    }
   ],
   "source": [
    "verificar(dicas, 'Felix', 5.5)"
   ]
  },
  {
   "cell_type": "code",
   "execution_count": 66,
   "id": "688b4b20-6154-4ecd-8614-043c1135f2b1",
   "metadata": {},
   "outputs": [
    {
     "ename": "TypeError",
     "evalue": "atributo peso deveria ser (<class 'int'>, <class 'float'>)",
     "output_type": "error",
     "traceback": [
      "\u001b[0;31m---------------------------------------------------------------------------\u001b[0m",
      "\u001b[0;31mTypeError\u001b[0m                                 Traceback (most recent call last)",
      "Cell \u001b[0;32mIn[66], line 1\u001b[0m\n\u001b[0;32m----> 1\u001b[0m \u001b[43mverificar\u001b[49m\u001b[43m(\u001b[49m\u001b[43mdicas\u001b[49m\u001b[43m,\u001b[49m\u001b[43m \u001b[49m\u001b[38;5;124;43m'\u001b[39;49m\u001b[38;5;124;43mFelix\u001b[39;49m\u001b[38;5;124;43m'\u001b[39;49m\u001b[43m,\u001b[49m\u001b[43m \u001b[49m\u001b[38;5;124;43m'\u001b[39;49m\u001b[38;5;124;43m5.5\u001b[39;49m\u001b[38;5;124;43m'\u001b[39;49m\u001b[43m)\u001b[49m\n",
      "Cell \u001b[0;32mIn[64], line 7\u001b[0m, in \u001b[0;36mverificar\u001b[0;34m(dicas, *args)\u001b[0m\n\u001b[1;32m      5\u001b[0m         tipo \u001b[38;5;241m=\u001b[39m (\u001b[38;5;28mint\u001b[39m, \u001b[38;5;28mfloat\u001b[39m)\n\u001b[1;32m      6\u001b[0m     \u001b[38;5;28;01mif\u001b[39;00m \u001b[38;5;129;01mnot\u001b[39;00m \u001b[38;5;28misinstance\u001b[39m(arg, tipo):\n\u001b[0;32m----> 7\u001b[0m         \u001b[38;5;28;01mraise\u001b[39;00m \u001b[38;5;167;01mTypeError\u001b[39;00m(\u001b[38;5;124mf\u001b[39m\u001b[38;5;124m'\u001b[39m\u001b[38;5;124matributo \u001b[39m\u001b[38;5;132;01m{\u001b[39;00mnome\u001b[38;5;132;01m}\u001b[39;00m\u001b[38;5;124m deveria ser \u001b[39m\u001b[38;5;132;01m{\u001b[39;00mtipo\u001b[38;5;132;01m}\u001b[39;00m\u001b[38;5;124m'\u001b[39m)\n\u001b[1;32m      8\u001b[0m     res[nome] \u001b[38;5;241m=\u001b[39m arg\n\u001b[1;32m      9\u001b[0m \u001b[38;5;28;01mreturn\u001b[39;00m res\n",
      "\u001b[0;31mTypeError\u001b[0m: atributo peso deveria ser (<class 'int'>, <class 'float'>)"
     ]
    }
   ],
   "source": [
    "verificar(dicas, 'Felix', '5.5')"
   ]
  },
  {
   "cell_type": "code",
   "execution_count": 68,
   "id": "cdf114a7-af0c-4a05-9553-89a6626560b7",
   "metadata": {},
   "outputs": [],
   "source": [
    "def inicializar(instância, *args):\n",
    "    instância.__dict__ = verificar(instância.__annotations__, *args)\n"
   ]
  },
  {
   "cell_type": "code",
   "execution_count": 69,
   "id": "9a99746d-1bb7-4d5c-b6ce-7659197b6b47",
   "metadata": {},
   "outputs": [],
   "source": [
    "rex = Pet()\n",
    "inicializar(rex, 'Rex', 22)"
   ]
  },
  {
   "cell_type": "code",
   "execution_count": 70,
   "id": "d1ef757a-73ab-4468-ba8d-7445b9a3dd36",
   "metadata": {},
   "outputs": [
    {
     "data": {
      "text/plain": [
       "{'nome': 'Rex', 'peso': 22}"
      ]
     },
     "execution_count": 70,
     "metadata": {},
     "output_type": "execute_result"
    }
   ],
   "source": [
    "rex.__dict__"
   ]
  },
  {
   "cell_type": "code",
   "execution_count": 71,
   "id": "8e9e77e9-d260-42f6-a8fe-479d55a3e8b8",
   "metadata": {},
   "outputs": [],
   "source": [
    "def representar(instância):\n",
    "    res = type(instância).__name__\n",
    "    args = ', '.join(repr(v) for v in instância.__dict__.values())\n",
    "    return res + f'({args})'"
   ]
  },
  {
   "cell_type": "code",
   "execution_count": 72,
   "id": "82199757-60f2-48b7-ad08-f6d16c09055e",
   "metadata": {},
   "outputs": [
    {
     "data": {
      "text/plain": [
       "\"Pet('Rex', 22)\""
      ]
     },
     "execution_count": 72,
     "metadata": {},
     "output_type": "execute_result"
    }
   ],
   "source": [
    "representar(rex)"
   ]
  },
  {
   "cell_type": "code",
   "execution_count": 73,
   "id": "42b2fe73-6b5f-432f-88e3-4b96c52c28b2",
   "metadata": {},
   "outputs": [],
   "source": [
    "Pet2 = type('Pet2', (), {'__init__': inicializar, '__repr__': representar, '__annotations__': {'nome':str, 'peso': float}})"
   ]
  },
  {
   "cell_type": "code",
   "execution_count": 88,
   "id": "67865a1f-955b-4173-a984-e5f783c4ca7a",
   "metadata": {},
   "outputs": [],
   "source": [
    "def tipada(classe):\n",
    "    return type(\n",
    "        classe.__name__,\n",
    "        (), \n",
    "        dict(\n",
    "            __init__=inicializar,\n",
    "            __repr__=representar, \n",
    "            __annotations__=classe.__annotations__))"
   ]
  },
  {
   "cell_type": "code",
   "execution_count": 89,
   "id": "b0ddd1d0-9a15-411a-b401-bdc78e86b03a",
   "metadata": {},
   "outputs": [],
   "source": [
    "@tipada\n",
    "class Pet3:\n",
    "    nome: str\n",
    "    peso: float\n"
   ]
  },
  {
   "cell_type": "code",
   "execution_count": 90,
   "id": "3c0f4d11-16d5-4865-8146-020716422ad8",
   "metadata": {},
   "outputs": [],
   "source": [
    "fido = Pet3('Fido', 11)"
   ]
  },
  {
   "cell_type": "code",
   "execution_count": 91,
   "id": "f92b73da-7313-46b7-a913-f23c008b0141",
   "metadata": {},
   "outputs": [
    {
     "data": {
      "text/plain": [
       "Pet3('Fido', 11)"
      ]
     },
     "execution_count": 91,
     "metadata": {},
     "output_type": "execute_result"
    }
   ],
   "source": [
    "fido"
   ]
  },
  {
   "cell_type": "code",
   "execution_count": 92,
   "id": "3b3ee51d-00ec-44b1-9760-eff3c2130b79",
   "metadata": {},
   "outputs": [
    {
     "ename": "TypeError",
     "evalue": "atributo peso deveria ser (<class 'int'>, <class 'float'>)",
     "output_type": "error",
     "traceback": [
      "\u001b[0;31m---------------------------------------------------------------------------\u001b[0m",
      "\u001b[0;31mTypeError\u001b[0m                                 Traceback (most recent call last)",
      "Cell \u001b[0;32mIn[92], line 1\u001b[0m\n\u001b[0;32m----> 1\u001b[0m \u001b[43mPet3\u001b[49m\u001b[43m(\u001b[49m\u001b[38;5;124;43m'\u001b[39;49m\u001b[38;5;124;43mFido\u001b[39;49m\u001b[38;5;124;43m'\u001b[39;49m\u001b[43m,\u001b[49m\u001b[43m \u001b[49m\u001b[38;5;124;43m'\u001b[39;49m\u001b[38;5;124;43m11\u001b[39;49m\u001b[38;5;124;43m'\u001b[39;49m\u001b[43m)\u001b[49m\n",
      "Cell \u001b[0;32mIn[68], line 2\u001b[0m, in \u001b[0;36minicializar\u001b[0;34m(instância, *args)\u001b[0m\n\u001b[1;32m      1\u001b[0m \u001b[38;5;28;01mdef\u001b[39;00m \u001b[38;5;21minicializar\u001b[39m(instância, \u001b[38;5;241m*\u001b[39margs):\n\u001b[0;32m----> 2\u001b[0m     instância\u001b[38;5;241m.\u001b[39m\u001b[38;5;18m__dict__\u001b[39m \u001b[38;5;241m=\u001b[39m \u001b[43mverificar\u001b[49m\u001b[43m(\u001b[49m\u001b[43minstância\u001b[49m\u001b[38;5;241;43m.\u001b[39;49m\u001b[38;5;18;43m__annotations__\u001b[39;49m\u001b[43m,\u001b[49m\u001b[43m \u001b[49m\u001b[38;5;241;43m*\u001b[39;49m\u001b[43margs\u001b[49m\u001b[43m)\u001b[49m\n",
      "Cell \u001b[0;32mIn[64], line 7\u001b[0m, in \u001b[0;36mverificar\u001b[0;34m(dicas, *args)\u001b[0m\n\u001b[1;32m      5\u001b[0m         tipo \u001b[38;5;241m=\u001b[39m (\u001b[38;5;28mint\u001b[39m, \u001b[38;5;28mfloat\u001b[39m)\n\u001b[1;32m      6\u001b[0m     \u001b[38;5;28;01mif\u001b[39;00m \u001b[38;5;129;01mnot\u001b[39;00m \u001b[38;5;28misinstance\u001b[39m(arg, tipo):\n\u001b[0;32m----> 7\u001b[0m         \u001b[38;5;28;01mraise\u001b[39;00m \u001b[38;5;167;01mTypeError\u001b[39;00m(\u001b[38;5;124mf\u001b[39m\u001b[38;5;124m'\u001b[39m\u001b[38;5;124matributo \u001b[39m\u001b[38;5;132;01m{\u001b[39;00mnome\u001b[38;5;132;01m}\u001b[39;00m\u001b[38;5;124m deveria ser \u001b[39m\u001b[38;5;132;01m{\u001b[39;00mtipo\u001b[38;5;132;01m}\u001b[39;00m\u001b[38;5;124m'\u001b[39m)\n\u001b[1;32m      8\u001b[0m     res[nome] \u001b[38;5;241m=\u001b[39m arg\n\u001b[1;32m      9\u001b[0m \u001b[38;5;28;01mreturn\u001b[39;00m res\n",
      "\u001b[0;31mTypeError\u001b[0m: atributo peso deveria ser (<class 'int'>, <class 'float'>)"
     ]
    }
   ],
   "source": [
    "Pet3('Fido', '11')"
   ]
  },
  {
   "cell_type": "code",
   "execution_count": 93,
   "id": "54ce00f4-ec4d-4068-8ce7-a0550266bfe1",
   "metadata": {},
   "outputs": [
    {
     "data": {
      "text/plain": [
       "\u001b[0;31mInit signature:\u001b[0m  \u001b[0mtype\u001b[0m\u001b[0;34m(\u001b[0m\u001b[0mself\u001b[0m\u001b[0;34m,\u001b[0m \u001b[0;34m/\u001b[0m\u001b[0;34m,\u001b[0m \u001b[0;34m*\u001b[0m\u001b[0margs\u001b[0m\u001b[0;34m,\u001b[0m \u001b[0;34m**\u001b[0m\u001b[0mkwargs\u001b[0m\u001b[0;34m)\u001b[0m\u001b[0;34m\u001b[0m\u001b[0;34m\u001b[0m\u001b[0m\n",
       "\u001b[0;31mDocstring:\u001b[0m     \n",
       "type(object) -> the object's type\n",
       "type(name, bases, dict, **kwds) -> a new type\n",
       "\u001b[0;31mType:\u001b[0m           type\n",
       "\u001b[0;31mSubclasses:\u001b[0m     ABCMeta, EnumType, _AnyMeta, NamedTupleMeta, _TypedDictMeta, _DeprecatedType, _ABC, MetaHasDescriptors, _TzSingleton, _TzFactory, ..."
      ]
     },
     "metadata": {},
     "output_type": "display_data"
    }
   ],
   "source": [
    "? type"
   ]
  },
  {
   "cell_type": "code",
   "execution_count": null,
   "id": "61ad8539-369d-47c3-aca9-d37b49e65771",
   "metadata": {},
   "outputs": [],
   "source": [
    "class C(A, B, metaclass=Y):"
   ]
  }
 ],
 "metadata": {
  "kernelspec": {
   "display_name": "Python 3 (ipykernel)",
   "language": "python",
   "name": "python3"
  },
  "language_info": {
   "codemirror_mode": {
    "name": "ipython",
    "version": 3
   },
   "file_extension": ".py",
   "mimetype": "text/x-python",
   "name": "python",
   "nbconvert_exporter": "python",
   "pygments_lexer": "ipython3",
   "version": "3.12.3"
  }
 },
 "nbformat": 4,
 "nbformat_minor": 5
}

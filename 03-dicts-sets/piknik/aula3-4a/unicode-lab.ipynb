{
 "cells": [
  {
   "cell_type": "code",
   "execution_count": 2,
   "id": "f20a0d49-3327-4c9a-867a-ea12a28722cc",
   "metadata": {},
   "outputs": [
    {
     "data": {
      "text/plain": [
       "1114111"
      ]
     },
     "execution_count": 2,
     "metadata": {},
     "output_type": "execute_result"
    }
   ],
   "source": [
    "import sys\n",
    "sys.maxunicode"
   ]
  },
  {
   "cell_type": "code",
   "execution_count": 4,
   "id": "74afb667-d4c7-4ca3-b2ee-89400f6158e0",
   "metadata": {},
   "outputs": [
    {
     "data": {
      "text/plain": [
       "'LATIN CAPITAL LETTER A'"
      ]
     },
     "execution_count": 4,
     "metadata": {},
     "output_type": "execute_result"
    }
   ],
   "source": [
    "from unicodedata import name\n",
    "\n",
    "name('A')"
   ]
  },
  {
   "cell_type": "code",
   "execution_count": 5,
   "id": "87357163-7e4d-4f8c-98d1-0e0484b046c5",
   "metadata": {},
   "outputs": [
    {
     "data": {
      "text/plain": [
       "65"
      ]
     },
     "execution_count": 5,
     "metadata": {},
     "output_type": "execute_result"
    }
   ],
   "source": [
    "ord('A')"
   ]
  },
  {
   "cell_type": "code",
   "execution_count": 6,
   "id": "fc1e4cc0-3450-4dcc-8f62-e33a3a5af0e4",
   "metadata": {},
   "outputs": [
    {
     "data": {
      "text/plain": [
       "'A'"
      ]
     },
     "execution_count": 6,
     "metadata": {},
     "output_type": "execute_result"
    }
   ],
   "source": [
    "chr(65)"
   ]
  },
  {
   "cell_type": "code",
   "execution_count": 7,
   "id": "19218917-f277-41aa-ad4c-826a36cc4591",
   "metadata": {},
   "outputs": [
    {
     "ename": "ValueError",
     "evalue": "no such name",
     "output_type": "error",
     "traceback": [
      "\u001b[0;31m---------------------------------------------------------------------------\u001b[0m",
      "\u001b[0;31mValueError\u001b[0m                                Traceback (most recent call last)",
      "Cell \u001b[0;32mIn[7], line 1\u001b[0m\n\u001b[0;32m----> 1\u001b[0m \u001b[43mname\u001b[49m\u001b[43m(\u001b[49m\u001b[38;5;28;43mchr\u001b[39;49m\u001b[43m(\u001b[49m\u001b[43msys\u001b[49m\u001b[38;5;241;43m.\u001b[39;49m\u001b[43mmaxunicode\u001b[49m\u001b[43m)\u001b[49m\u001b[43m)\u001b[49m\n",
      "\u001b[0;31mValueError\u001b[0m: no such name"
     ]
    }
   ],
   "source": [
    "name(chr(sys.maxunicode))"
   ]
  },
  {
   "cell_type": "code",
   "execution_count": 14,
   "id": "2c36c6ac-a777-45f2-b777-7def0dac56e5",
   "metadata": {},
   "outputs": [
    {
     "name": "stdout",
     "output_type": "stream",
     "text": [
      "\u0007\n"
     ]
    }
   ],
   "source": [
    "print(chr(7))"
   ]
  },
  {
   "cell_type": "code",
   "execution_count": 3,
   "id": "6a6ff614-b53a-4ce3-8934-341f401a782b",
   "metadata": {},
   "outputs": [
    {
     "name": "stdout",
     "output_type": "stream",
     "text": [
      "-0b110011000011110100010000000101110110111001101010010101100101100\n"
     ]
    }
   ],
   "source": [
    "print(bin(hash('Garoa')))"
   ]
  },
  {
   "cell_type": "code",
   "execution_count": 4,
   "id": "2e878575-14df-4a38-8fe9-0d19774419e8",
   "metadata": {},
   "outputs": [
    {
     "name": "stdout",
     "output_type": "stream",
     "text": [
      "-0b111001111011101011100011100011111100101111011001100001011100\n"
     ]
    }
   ],
   "source": [
    "print(bin(hash('GaroA')))"
   ]
  },
  {
   "cell_type": "code",
   "execution_count": 1,
   "id": "f0dc7215-f97e-42b2-8d69-0a5c49ad19cc",
   "metadata": {},
   "outputs": [
    {
     "data": {
      "text/plain": [
       "2000239927284763735"
      ]
     },
     "execution_count": 1,
     "metadata": {},
     "output_type": "execute_result"
    }
   ],
   "source": [
    "hash('Garoa')"
   ]
  },
  {
   "cell_type": "code",
   "execution_count": 2,
   "id": "27c1d05f-fd75-4c87-be28-42f5a996c88f",
   "metadata": {},
   "outputs": [
    {
     "data": {
      "text/plain": [
       "1"
      ]
     },
     "execution_count": 2,
     "metadata": {},
     "output_type": "execute_result"
    }
   ],
   "source": [
    "hash(1)"
   ]
  },
  {
   "cell_type": "code",
   "execution_count": 3,
   "id": "54a32e7f-a450-41a8-9801-4e4c6b80281b",
   "metadata": {},
   "outputs": [
    {
     "data": {
      "text/plain": [
       "1524419944784482362"
      ]
     },
     "execution_count": 3,
     "metadata": {},
     "output_type": "execute_result"
    }
   ],
   "source": [
    "hash(23843285098570843975094328570329875032706987645764576)"
   ]
  },
  {
   "cell_type": "code",
   "execution_count": 4,
   "id": "5780471c-f15d-40f0-91ec-ad6cea255b69",
   "metadata": {},
   "outputs": [
    {
     "data": {
      "text/plain": [
       "(1, 1)"
      ]
     },
     "execution_count": 4,
     "metadata": {},
     "output_type": "execute_result"
    }
   ],
   "source": [
    "hash(1), hash(1.0)"
   ]
  },
  {
   "cell_type": "code",
   "execution_count": 6,
   "id": "2b1ed807-c97b-49a1-aec3-e2d491fbd277",
   "metadata": {},
   "outputs": [
    {
     "data": {
      "text/plain": [
       "1"
      ]
     },
     "execution_count": 6,
     "metadata": {},
     "output_type": "execute_result"
    }
   ],
   "source": [
    "hash(1.0000000000000000001)"
   ]
  },
  {
   "cell_type": "code",
   "execution_count": 7,
   "id": "86c57d76-d3f8-4fb6-8d65-c5fc39d363cb",
   "metadata": {},
   "outputs": [
    {
     "data": {
      "text/plain": [
       "-8706717306570978009"
      ]
     },
     "execution_count": 7,
     "metadata": {},
     "output_type": "execute_result"
    }
   ],
   "source": [
    "hash('1')"
   ]
  },
  {
   "cell_type": "code",
   "execution_count": 8,
   "id": "ffc0fb7a-12ec-4b09-b8dc-6561df8cc41c",
   "metadata": {},
   "outputs": [
    {
     "data": {
      "text/plain": [
       "-2"
      ]
     },
     "execution_count": 8,
     "metadata": {},
     "output_type": "execute_result"
    }
   ],
   "source": [
    "hash(-1)"
   ]
  },
  {
   "cell_type": "code",
   "execution_count": 9,
   "id": "ae40b89b-e7a8-450c-8e02-3937d0c1965e",
   "metadata": {},
   "outputs": [
    {
     "data": {
      "text/plain": [
       "-2"
      ]
     },
     "execution_count": 9,
     "metadata": {},
     "output_type": "execute_result"
    }
   ],
   "source": [
    "hash(-2)"
   ]
  },
  {
   "cell_type": "code",
   "execution_count": null,
   "id": "930f0052-e48c-4567-9277-b98106711c75",
   "metadata": {},
   "outputs": [],
   "source": []
  }
 ],
 "metadata": {
  "kernelspec": {
   "display_name": "Python 3 (ipykernel)",
   "language": "python",
   "name": "python3"
  },
  "language_info": {
   "codemirror_mode": {
    "name": "ipython",
    "version": 3
   },
   "file_extension": ".py",
   "mimetype": "text/x-python",
   "name": "python",
   "nbconvert_exporter": "python",
   "pygments_lexer": "ipython3",
   "version": "3.12.2"
  }
 },
 "nbformat": 4,
 "nbformat_minor": 5
}

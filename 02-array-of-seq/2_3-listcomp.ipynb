{
 "cells": [
  {
   "cell_type": "markdown",
   "id": "07197407-9d6f-4e91-b154-e729abbc8b6e",
   "metadata": {},
   "source": [
    "## 2.3. Compreensões de listas e expressões geradoras\n",
    "\n",
    "Exemplo da aula 1:"
   ]
  },
  {
   "cell_type": "code",
   "execution_count": null,
   "id": "bf41ec36-8c8d-4596-9ace-04e21835c74d",
   "metadata": {},
   "outputs": [],
   "source": [
    "l = []\n",
    "for n in range(2, 11):\n",
    "    l.append(str(n))\n",
    "l"
   ]
  },
  {
   "cell_type": "code",
   "execution_count": null,
   "id": "8a3a4ccc-0837-43f5-89ba-264669fd8cfe",
   "metadata": {},
   "outputs": [],
   "source": [
    "[str(n) for n in range(2, 11)]"
   ]
  },
  {
   "cell_type": "code",
   "execution_count": null,
   "id": "f99e6594-fc21-44a7-9772-cab3dab53289",
   "metadata": {},
   "outputs": [],
   "source": [
    "ranks = [str(n) for n in range(2, 11)] + list('JQKA')\n",
    "ranks"
   ]
  },
  {
   "cell_type": "markdown",
   "id": "cd6064f6-ff9e-44cc-9da5-e1ecdcf78354",
   "metadata": {},
   "source": [
    "> **Dica de sintaxe**: Dentro de pares de `()`, `[]`, `{}`, ou , o interpretador Python lê uma quebra de linha como um simples espaço, e não como o fim da instrução. Python sabe que a instrução só termina no último delimitador `)]}` pendente. Então você pode usar múltiplas linhas para criar listas, listcomps, tuplas, dicionários, etc."
   ]
  },
  {
   "cell_type": "markdown",
   "id": "3cf72b14-5a6c-4389-90a1-2f3bb1716b52",
   "metadata": {},
   "source": [
    "### 2.3.1. Compreensões de lista e legibilidade\n",
    "\n",
    "Antes:"
   ]
  },
  {
   "cell_type": "code",
   "execution_count": null,
   "id": "32f8a3bb-ff8d-4040-b8b1-7c052e5621f4",
   "metadata": {},
   "outputs": [],
   "source": [
    "codes = []\n",
    "for symbol in '$¢£¥€¤':\n",
    "    codes.append(ord(symbol))\n",
    "codes"
   ]
  },
  {
   "cell_type": "markdown",
   "id": "a25ba297-a446-4e26-8dd6-9dc9a5245ff0",
   "metadata": {},
   "source": [
    "Agora:"
   ]
  },
  {
   "cell_type": "code",
   "execution_count": null,
   "id": "8ae89637-3d58-4635-852a-cfc1afc1d9b8",
   "metadata": {},
   "outputs": [],
   "source": [
    "codes = [ord(symbol) for symbol in '$¢£¥€¤']\n",
    "codes"
   ]
  },
  {
   "cell_type": "markdown",
   "id": "eebe9528-216a-4110-abbd-dc214100ec61",
   "metadata": {},
   "source": [
    "### 2.3.2. Listcomps versus map e filter\n",
    "\n",
    "Listcomps fazem tudo que as funções `map` e `filter` fazem, sem os malabarismos exigidos pela funcionalidade limitada da sintaxe `lambda` do Python."
   ]
  },
  {
   "cell_type": "code",
   "execution_count": null,
   "id": "1f491013-c839-4d78-bf23-4a74a9023ebb",
   "metadata": {},
   "outputs": [],
   "source": [
    "def ajustar(n):\n",
    "    return n * 1.1\n",
    "\n",
    "l = [10, 20, 30, 40, 50]\n",
    "list(map(ajustar, l))"
   ]
  },
  {
   "cell_type": "code",
   "execution_count": null,
   "id": "fc50003d-ae46-4629-b806-6f9be21e5aae",
   "metadata": {},
   "outputs": [],
   "source": [
    "def pequeno(n):\n",
    "    return n < 30\n",
    "\n",
    "list(filter(pequeno, l))"
   ]
  },
  {
   "cell_type": "code",
   "execution_count": null,
   "id": "95af47c0-99c2-4872-b08c-191a3bc7d991",
   "metadata": {},
   "outputs": [],
   "source": [
    "list(map(ajustar, filter(pequeno, l)))"
   ]
  },
  {
   "cell_type": "code",
   "execution_count": null,
   "id": "400445ff-8478-495b-b2f6-290b297ffaf6",
   "metadata": {},
   "outputs": [],
   "source": [
    "list(filter(lambda n: n < 30, map(lambda n: n*1.1, l)))"
   ]
  },
  {
   "cell_type": "code",
   "execution_count": null,
   "id": "2f485dcd-648d-498e-9cf0-21fa3b69a0e0",
   "metadata": {},
   "outputs": [],
   "source": [
    "[n * 1.1 for n in l if n < 30]"
   ]
  },
  {
   "cell_type": "code",
   "execution_count": null,
   "id": "b312190f-5bc3-4e84-aa9e-07f6a69ee0fa",
   "metadata": {},
   "outputs": [],
   "source": [
    "symbols = '$¢£¥€¤'\n",
    "list(filter(lambda char: ord(char) > 127, symbols))"
   ]
  },
  {
   "cell_type": "code",
   "execution_count": null,
   "id": "65c00e0e-98f9-48dc-9b78-ca1c7c2c9815",
   "metadata": {},
   "outputs": [],
   "source": [
    "[char for char in symbols if ord(char) > 127]"
   ]
  },
  {
   "cell_type": "code",
   "execution_count": null,
   "id": "eb3caf40-f96d-424b-9dee-626dc407103a",
   "metadata": {},
   "outputs": [],
   "source": [
    "list(map(ord, symbols))"
   ]
  },
  {
   "cell_type": "code",
   "execution_count": null,
   "id": "bac0f01f-fb85-482a-9247-fca62fb3ecde",
   "metadata": {},
   "outputs": [],
   "source": [
    "[ord(c) for c in symbols]"
   ]
  },
  {
   "cell_type": "code",
   "execution_count": null,
   "id": "1621f983-b050-4933-975a-fb3d0089a0f0",
   "metadata": {},
   "outputs": [],
   "source": [
    "beyond_ascii = list(filter(lambda code: code > 127, map(ord, symbols)))\n",
    "beyond_ascii"
   ]
  },
  {
   "cell_type": "code",
   "execution_count": null,
   "id": "a352d910-9b77-45da-87ac-53581f5739dd",
   "metadata": {},
   "outputs": [],
   "source": [
    "beyond_ascii = [ord(s) for s in symbols if ord(s) > 127]\n",
    "beyond_ascii"
   ]
  },
  {
   "cell_type": "markdown",
   "id": "380ff675-1768-48a1-802b-fc65fa3e6124",
   "metadata": {},
   "source": [
    "Micro-otimização com o operador [morsa](https://pt.wikipedia.org/wiki/Morsa), para evitar uma chamada a `ord(s)`:"
   ]
  },
  {
   "cell_type": "code",
   "execution_count": null,
   "id": "3f2680fc-dab1-46c9-ae1c-a913d66c76d7",
   "metadata": {},
   "outputs": [],
   "source": [
    "beyond_ascii = [code for s in symbols if (code := ord(s)) > 127]\n",
    "beyond_ascii"
   ]
  },
  {
   "cell_type": "markdown",
   "id": "e79d88f5-4977-4aeb-87d0-5b4ab2cddacc",
   "metadata": {},
   "source": [
    "### 2.3.3. Produtos cartesianos\n",
    "\n",
    "<img src=\"flpy_0203.png\" width=660 />"
   ]
  },
  {
   "cell_type": "code",
   "execution_count": 1,
   "id": "43b5ef81-5580-43c2-b49b-e79b3e2e822b",
   "metadata": {},
   "outputs": [
    {
     "data": {
      "text/plain": [
       "[('black', 'S'),\n",
       " ('black', 'M'),\n",
       " ('black', 'L'),\n",
       " ('white', 'S'),\n",
       " ('white', 'M'),\n",
       " ('white', 'L')]"
      ]
     },
     "execution_count": 1,
     "metadata": {},
     "output_type": "execute_result"
    }
   ],
   "source": [
    "colors = ['black', 'white']\n",
    "sizes = ['S', 'M', 'L']\n",
    "\n",
    "tshirts = []\n",
    "for color in colors:\n",
    "    for size in sizes:\n",
    "        tshirts.append((color, size))\n",
    "tshirts"
   ]
  },
  {
   "cell_type": "code",
   "execution_count": 2,
   "id": "b26185b6-8d86-498a-8a07-22d858a69648",
   "metadata": {},
   "outputs": [
    {
     "data": {
      "text/plain": [
       "[('black', 'S'),\n",
       " ('black', 'M'),\n",
       " ('black', 'L'),\n",
       " ('white', 'S'),\n",
       " ('white', 'M'),\n",
       " ('white', 'L')]"
      ]
     },
     "execution_count": 2,
     "metadata": {},
     "output_type": "execute_result"
    }
   ],
   "source": [
    "tshirts = [(color, size) for color in colors for size in sizes]\n",
    "tshirts"
   ]
  },
  {
   "cell_type": "markdown",
   "id": "90a975ae-fd02-4fa8-a6e2-3cf02922dd30",
   "metadata": {},
   "source": [
    "Ordenando por tamanho em vez de cor:"
   ]
  },
  {
   "cell_type": "code",
   "execution_count": 4,
   "id": "c1a0dffc-b0ca-4043-9273-ff6443364be8",
   "metadata": {},
   "outputs": [
    {
     "data": {
      "text/plain": [
       "[('black', 'S'),\n",
       " ('white', 'S'),\n",
       " ('black', 'M'),\n",
       " ('white', 'M'),\n",
       " ('black', 'L'),\n",
       " ('white', 'L')]"
      ]
     },
     "execution_count": 4,
     "metadata": {},
     "output_type": "execute_result"
    }
   ],
   "source": [
    "tshirts = [(color, size) for size in sizes for color in colors]\n",
    "tshirts"
   ]
  },
  {
   "cell_type": "markdown",
   "id": "272419fe-f6f9-4525-ad90-4e1195679b9e",
   "metadata": {},
   "source": [
    "#### Exemplo\n",
    "\n",
    "Exemplo inspirado no método `FrenchDeck.__init__`, gerando todas as combinações de naipe e valor:"
   ]
  },
  {
   "cell_type": "code",
   "execution_count": 8,
   "id": "9c632b51-e748-48c8-bee1-13f8ebb36e7b",
   "metadata": {},
   "outputs": [
    {
     "data": {
      "text/plain": [
       "[' 2 ♠',\n",
       " ' 3 ♠',\n",
       " ' 4 ♠',\n",
       " ' 5 ♠',\n",
       " ' 6 ♠',\n",
       " ' 7 ♠',\n",
       " ' 8 ♠',\n",
       " ' 9 ♠',\n",
       " '10 ♠',\n",
       " ' J ♠',\n",
       " ' Q ♠',\n",
       " ' K ♠',\n",
       " ' A ♠',\n",
       " ' 2 ♢',\n",
       " ' 3 ♢',\n",
       " ' 4 ♢',\n",
       " ' 5 ♢',\n",
       " ' 6 ♢',\n",
       " ' 7 ♢',\n",
       " ' 8 ♢',\n",
       " ' 9 ♢',\n",
       " '10 ♢',\n",
       " ' J ♢',\n",
       " ' Q ♢',\n",
       " ' K ♢',\n",
       " ' A ♢',\n",
       " ' 2 ♣',\n",
       " ' 3 ♣',\n",
       " ' 4 ♣',\n",
       " ' 5 ♣',\n",
       " ' 6 ♣',\n",
       " ' 7 ♣',\n",
       " ' 8 ♣',\n",
       " ' 9 ♣',\n",
       " '10 ♣',\n",
       " ' J ♣',\n",
       " ' Q ♣',\n",
       " ' K ♣',\n",
       " ' A ♣',\n",
       " ' 2 ♡',\n",
       " ' 3 ♡',\n",
       " ' 4 ♡',\n",
       " ' 5 ♡',\n",
       " ' 6 ♡',\n",
       " ' 7 ♡',\n",
       " ' 8 ♡',\n",
       " ' 9 ♡',\n",
       " '10 ♡',\n",
       " ' J ♡',\n",
       " ' Q ♡',\n",
       " ' K ♡',\n",
       " ' A ♡']"
      ]
     },
     "execution_count": 8,
     "metadata": {},
     "output_type": "execute_result"
    }
   ],
   "source": [
    "ranks = [str(n) for n in range(2, 11)] + list('JQKA')\n",
    "suits = '\\N{BLACK SPADE SUIT} \\N{WHITE DIAMOND SUIT} \\N{BLACK CLUB SUIT} \\N{WHITE HEART SUIT}'.split()\n",
    "\n",
    "cards = [f'{rank:>2} {suit}' for suit in suits\n",
    "                      for rank in ranks]\n",
    "cards"
   ]
  },
  {
   "cell_type": "markdown",
   "id": "cb846273-ce82-4e3c-9b3f-df16033ca5c0",
   "metadata": {},
   "source": [
    "### 2.3.4. Expressões geradoras\n",
    "\n",
    "Para inicializar tuplas, arrays e outros tipos de sequências, você também poderia começar de uma listcomp, mas uma genexp (expressão geradora) economiza memória, pois ela produz itens um de cada vez usando o protocolo iterador, em vez de criar uma lista inteira apenas para alimentar outro construtor."
   ]
  },
  {
   "cell_type": "code",
   "execution_count": 15,
   "id": "b35f2862-db74-40f5-8c30-fded6769bfb5",
   "metadata": {},
   "outputs": [
    {
     "data": {
      "text/plain": [
       "(36, 162, 163, 165, 8364, 164)"
      ]
     },
     "execution_count": 15,
     "metadata": {},
     "output_type": "execute_result"
    }
   ],
   "source": [
    "symbols = '$¢£¥€¤'\n",
    "t = tuple(ord(symbol) for symbol in symbols)\n",
    "t"
   ]
  },
  {
   "cell_type": "code",
   "execution_count": 12,
   "id": "0fba9a2f-45a8-49d4-8fd9-1066bcd0e62d",
   "metadata": {},
   "outputs": [
    {
     "data": {
      "text/plain": [
       "array('I', [36, 162, 163, 165, 8364, 164])"
      ]
     },
     "execution_count": 12,
     "metadata": {},
     "output_type": "execute_result"
    }
   ],
   "source": [
    "import array\n",
    "array.array('I', (ord(symbol) for symbol in symbols))"
   ]
  },
  {
   "cell_type": "markdown",
   "id": "15337019-4b80-43d3-93c8-055598b9bf33",
   "metadata": {},
   "source": [
    "A expressão geradora produz um item por vez, sob demanda.\n",
    "\n",
    "Nesse exemplo, em nenhum momento uma lista com todas as seis variações de camisetas é criada:"
   ]
  },
  {
   "cell_type": "code",
   "execution_count": 9,
   "id": "171b26fe-8061-4863-b53e-6febf177fd80",
   "metadata": {},
   "outputs": [
    {
     "name": "stdout",
     "output_type": "stream",
     "text": [
      "black S\n",
      "black M\n",
      "black L\n",
      "white S\n",
      "white M\n",
      "white L\n"
     ]
    }
   ],
   "source": [
    "colors = ['black', 'white']\n",
    "sizes = ['S', 'M', 'L']\n",
    "for tshirt in (f'{c} {s}' for c in colors for s in sizes):\n",
    "    print(tshirt)"
   ]
  },
  {
   "cell_type": "code",
   "execution_count": 10,
   "id": "574d5b57-b34e-45d3-9cf0-f0ece89c066a",
   "metadata": {},
   "outputs": [
    {
     "data": {
      "text/plain": [
       "['black S', 'black M', 'black L', 'white S', 'white M', 'white L']"
      ]
     },
     "execution_count": 10,
     "metadata": {},
     "output_type": "execute_result"
    }
   ],
   "source": [
    "list(f'{c} {s}' for c in colors for s in sizes)"
   ]
  },
  {
   "cell_type": "code",
   "execution_count": null,
   "id": "84d754c8-79d2-4636-846c-1cb6c48f875f",
   "metadata": {},
   "outputs": [],
   "source": []
  }
 ],
 "metadata": {
  "kernelspec": {
   "display_name": "Python 3 (ipykernel)",
   "language": "python",
   "name": "python3"
  },
  "language_info": {
   "codemirror_mode": {
    "name": "ipython",
    "version": 3
   },
   "file_extension": ".py",
   "mimetype": "text/x-python",
   "name": "python",
   "nbconvert_exporter": "python",
   "pygments_lexer": "ipython3",
   "version": "3.12.3"
  }
 },
 "nbformat": 4,
 "nbformat_minor": 5
}

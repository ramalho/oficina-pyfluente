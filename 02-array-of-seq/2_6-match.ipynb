{
 "cells": [
  {
   "cell_type": "markdown",
   "id": "baee3d67-8107-429e-8a41-96270588e38c",
   "metadata": {},
   "source": [
    "## 2.6. Pattern matching com sequências\n",
    "\n",
    "No livro: https://pythonfluente.com/#sequence_patterns_sec\n"
   ]
  },
  {
   "cell_type": "code",
   "execution_count": 3,
   "id": "41e25120-c791-42be-b543-87c73dead280",
   "metadata": {},
   "outputs": [
    {
     "name": "stdout",
     "output_type": "stream",
     "text": [
      "                |  latitude | longitude\n",
      "Mexico City     |   19.4333 |  -99.1333\n",
      "New York-Newark |   40.8086 |  -74.0204\n",
      "São Paulo       |  -23.5478 |  -46.6358\n"
     ]
    }
   ],
   "source": [
    "metro_areas = [\n",
    "    ('Tokyo', 'JP', 36.933, (35.689722, 139.691667)),\n",
    "    ('Delhi NCR', 'IN', 21.935, (28.613889, 77.208889)),\n",
    "    ('Mexico City', 'MX', 20.142, (19.433333, -99.133333)),\n",
    "    ('New York-Newark', 'US', 20.104, (40.808611, -74.020386)),\n",
    "    ('São Paulo', 'BR', 19.649, (-23.547778, -46.635833)),\n",
    "]\n",
    "\n",
    "def main():\n",
    "    print(f'{\"\":15} | {\"latitude\":>9} | {\"longitude\":>9}')\n",
    "    for record in metro_areas:\n",
    "        match record:  # (1)\n",
    "            case [name, _, _, (lat, lon)] if lon <= 0:  # (2)\n",
    "                print(f'{name:15} | {lat:9.4f} | {lon:9.4f}')\n",
    "\n",
    "main()"
   ]
  },
  {
   "cell_type": "code",
   "execution_count": 4,
   "id": "6a816ca0-3468-4305-99a7-e64c8f605266",
   "metadata": {},
   "outputs": [],
   "source": [
    "### Exemplo que não tem no livro"
   ]
  },
  {
   "cell_type": "code",
   "execution_count": 5,
   "id": "b9da3799-3a88-44f1-ace1-ab2f790f8446",
   "metadata": {},
   "outputs": [
    {
     "name": "stdout",
     "output_type": "stream",
     "text": [
      "['Format', 'Net', 'Units', 'Net', 'Sales', 'Royalty', '%', 'Net', 'Royalty']\n",
      "['Book', 277, 8389.06, 10.0, 838.91]\n",
      "['Foreign', 'Rights', 1, 1037.73, 25.0, 259.43]\n",
      "['License', 1, 16.36, 10.0, 1.64]\n",
      "['On-Line', 'Access', 1, 2520.5, 10.0, 252.05]\n",
      "['eBook', 370, 7200.81, 10.0, 720.08]\n",
      "['Book', 'Reserve', 'Return', 'From', '(MAY', 2016, \"O'Reilly)\", 483.29]\n",
      "['Book', 'Reserve', 20.0, -167.78]\n"
     ]
    }
   ],
   "source": [
    "statement = \"\"\"\n",
    "Format Net Units Net Sales Royalty % Net Royalty\n",
    "Book 277 8,389.06 10.0000 838.91\n",
    "Foreign Rights 1 1,037.73 25.0000 259.43\n",
    "License 1 16.36 10.0000 1.64\n",
    "On-Line Access 1 2,520.50 10.0000 252.05\n",
    "eBook 370 7,200.81 10.0000 720.08\n",
    "Book Reserve Return From (MAY 2016 O'Reilly) 483.29\n",
    "Book Reserve 20.0000 -167.78\n",
    "\"\"\"\n",
    "\n",
    "def parse_token(token: str) -> int | float | str:\n",
    "    \"\"\"Convert number-like token to int or float.\"\"\"\n",
    "    maybe_number = token.replace(',', '_')\n",
    "    try:\n",
    "        return int(maybe_number)\n",
    "    except ValueError:\n",
    "        try:\n",
    "            return float(maybe_number)\n",
    "        except ValueError:\n",
    "            pass\n",
    "    return token  # unchanged\n",
    "\n",
    "def tokenize(line):\n",
    "    return [parse_token(t) for t in line.split()]\n",
    "\n",
    "for line in statement.strip().split('\\n'):\n",
    "    print(tokenize(line))"
   ]
  },
  {
   "cell_type": "code",
   "execution_count": 9,
   "id": "68656c58-2b36-48e5-b7b6-c2b474543b89",
   "metadata": {},
   "outputs": [
    {
     "name": "stdout",
     "output_type": "stream",
     "text": [
      "?: ['Format', 'Net', 'Units', 'Net', 'Sales', 'Royalty', '%', 'Net', 'Royalty']\n",
      "LineItem(description='Book', units=277, sales=8389.06, roy_pct=10.0, royalty=838.91)\n",
      "LineItem(description='Foreign Rights', units=1, sales=1037.73, roy_pct=25.0, royalty=259.43)\n",
      "LineItem(description='License', units=1, sales=16.36, roy_pct=10.0, royalty=1.64)\n",
      "LineItem(description='On-Line Access', units=1, sales=2520.5, roy_pct=10.0, royalty=252.05)\n",
      "LineItem(description='eBook', units=370, sales=7200.81, roy_pct=10.0, royalty=720.08)\n",
      "?: ['Book', 'Reserve', 'Return', 'From', '(MAY', 2016, \"O'Reilly)\", 483.29]\n",
      "?: ['Book', 'Reserve', 20.0, -167.78]\n"
     ]
    }
   ],
   "source": [
    "from typing import NamedTuple\n",
    "\n",
    "class LineItem(NamedTuple):\n",
    "    description: str\n",
    "    units: int\n",
    "    sales: float\n",
    "    roy_pct: float\n",
    "    royalty: float\n",
    "\n",
    "def eval_line(tokens):\n",
    "    match tokens:\n",
    "        case [*words, int(units), float(sales), float(roy_pct), float(royalty)]:\n",
    "            description = ' '.join(words)\n",
    "            return LineItem(description, units, sales, roy_pct, royalty)\n",
    "        case _:\n",
    "            return '?: ' + repr(tokens)\n",
    "\n",
    "for line in statement.strip().split('\\n'):\n",
    "    tokens = tokenize(line)\n",
    "    print(eval_line(tokens))"
   ]
  },
  {
   "cell_type": "code",
   "execution_count": 10,
   "id": "80610b99-ab0f-46fd-a9a0-51e85df8d7ad",
   "metadata": {},
   "outputs": [
    {
     "name": "stdout",
     "output_type": "stream",
     "text": [
      "?: ['Format', 'Net', 'Units', 'Net', 'Sales', 'Royalty', '%', 'Net', 'Royalty']\n",
      "LineItem(description='Book', units=277, sales=8389.06, roy_pct=10.0, royalty=838.91)\n",
      "LineItem(description='Foreign_Rights', units=1, sales=1037.73, roy_pct=25.0, royalty=259.43)\n",
      "LineItem(description='License', units=1, sales=16.36, roy_pct=10.0, royalty=1.64)\n",
      "LineItem(description='On-Line_Access', units=1, sales=2520.5, roy_pct=10.0, royalty=252.05)\n",
      "LineItem(description='eBook', units=370, sales=7200.81, roy_pct=10.0, royalty=720.08)\n",
      "Adjustment(description=\"Book_Reserve_Return_From_(MAY_2016_O'Reilly)\", royalty=483.29)\n",
      "Adjustment(description='Book_Reserve_20.0', royalty=-167.78)\n"
     ]
    }
   ],
   "source": [
    "class Adjustment(NamedTuple):\n",
    "    description: str\n",
    "    royalty: float\n",
    "\n",
    "def eval_line(tokens):\n",
    "    match tokens:\n",
    "        case [*words, int(units), float(sales), float(roy_pct), float(royalty)]:\n",
    "            description = '_'.join(words)\n",
    "            return LineItem(description, units, sales, roy_pct, royalty)\n",
    "        case [*words, float(royalty)]:\n",
    "            description = '_'.join(str(w) for w in words)\n",
    "            return Adjustment(description, royalty)\n",
    "        case _:\n",
    "            return '?: ' + repr(tokens)\n",
    "\n",
    "for line in statement.strip().split('\\n'):\n",
    "    tokens = tokenize(line)\n",
    "    print(eval_line(tokens))"
   ]
  },
  {
   "cell_type": "code",
   "execution_count": null,
   "id": "c18a139e-a93f-4fb2-86fd-f9e1530714ac",
   "metadata": {},
   "outputs": [],
   "source": []
  },
  {
   "cell_type": "code",
   "execution_count": null,
   "id": "7309174f-5e49-4d51-9271-42042102e084",
   "metadata": {},
   "outputs": [],
   "source": []
  }
 ],
 "metadata": {
  "kernelspec": {
   "display_name": "Python 3 (ipykernel)",
   "language": "python",
   "name": "python3"
  },
  "language_info": {
   "codemirror_mode": {
    "name": "ipython",
    "version": 3
   },
   "file_extension": ".py",
   "mimetype": "text/x-python",
   "name": "python",
   "nbconvert_exporter": "python",
   "pygments_lexer": "ipython3",
   "version": "3.12.4"
  }
 },
 "nbformat": 4,
 "nbformat_minor": 5
}

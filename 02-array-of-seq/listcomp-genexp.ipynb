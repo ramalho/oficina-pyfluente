{
 "cells": [
  {
   "cell_type": "markdown",
   "id": "d10f0415-e6ba-492d-bacd-67b3cee03f45",
   "metadata": {},
   "source": [
    "# 2. An array of sequences"
   ]
  },
  {
   "cell_type": "markdown",
   "id": "07197407-9d6f-4e91-b154-e729abbc8b6e",
   "metadata": {},
   "source": [
    "## 2.3. Compreensões de listas e expressões geradoras\n",
    "\n",
    "Exemplo da aula 1:"
   ]
  },
  {
   "cell_type": "code",
   "execution_count": 1,
   "id": "8a3a4ccc-0837-43f5-89ba-264669fd8cfe",
   "metadata": {},
   "outputs": [
    {
     "data": {
      "text/plain": [
       "['2', '3', '4', '5', '6', '7', '8', '9', '10']"
      ]
     },
     "execution_count": 1,
     "metadata": {},
     "output_type": "execute_result"
    }
   ],
   "source": [
    "[str(n) for n in range(2, 11)]"
   ]
  },
  {
   "cell_type": "code",
   "execution_count": 2,
   "id": "f99e6594-fc21-44a7-9772-cab3dab53289",
   "metadata": {},
   "outputs": [
    {
     "data": {
      "text/plain": [
       "['2', '3', '4', '5', '6', '7', '8', '9', '10', 'J', 'Q', 'K', 'A']"
      ]
     },
     "execution_count": 2,
     "metadata": {},
     "output_type": "execute_result"
    }
   ],
   "source": [
    "ranks = [str(n) for n in range(2, 11)] + list('JQKA')\n",
    "ranks"
   ]
  },
  {
   "cell_type": "markdown",
   "id": "cd6064f6-ff9e-44cc-9da5-e1ecdcf78354",
   "metadata": {},
   "source": [
    "> **Dica de sintaxe**: Dentro de pares de `()`, `[]`, `{}`, ou , o interpretador Python lê uma quebra de linha como um simples espaço, e não como o fim da instrução. Python sabe que a instrução só termina no último delimitador `)]}` pendente. Então você pode usar múltiplas linhas para criar listas, listcomps, tuplas, dicionários, etc."
   ]
  },
  {
   "cell_type": "markdown",
   "id": "3cf72b14-5a6c-4389-90a1-2f3bb1716b52",
   "metadata": {},
   "source": [
    "### 2.3.1. Compreensões de lista e legibilidade\n",
    "\n",
    "Antes:"
   ]
  },
  {
   "cell_type": "code",
   "execution_count": 3,
   "id": "32f8a3bb-ff8d-4040-b8b1-7c052e5621f4",
   "metadata": {},
   "outputs": [
    {
     "data": {
      "text/plain": [
       "[36, 162, 163, 165, 8364, 164]"
      ]
     },
     "execution_count": 3,
     "metadata": {},
     "output_type": "execute_result"
    }
   ],
   "source": [
    "codes = []\n",
    "for symbol in '$¢£¥€¤':\n",
    "    codes.append(ord(symbol))\n",
    "codes"
   ]
  },
  {
   "cell_type": "markdown",
   "id": "a25ba297-a446-4e26-8dd6-9dc9a5245ff0",
   "metadata": {},
   "source": [
    "Agora:"
   ]
  },
  {
   "cell_type": "code",
   "execution_count": 4,
   "id": "8ae89637-3d58-4635-852a-cfc1afc1d9b8",
   "metadata": {},
   "outputs": [
    {
     "data": {
      "text/plain": [
       "[36, 162, 163, 165, 8364, 164]"
      ]
     },
     "execution_count": 4,
     "metadata": {},
     "output_type": "execute_result"
    }
   ],
   "source": [
    "codes = [ord(symbol) for symbol in '$¢£¥€¤']\n",
    "codes"
   ]
  },
  {
   "cell_type": "markdown",
   "id": "eebe9528-216a-4110-abbd-dc214100ec61",
   "metadata": {},
   "source": [
    "### 2.3.2. Listcomps versus map e filter\n",
    "\n",
    "Listcomps fazem tudo que as funções map e filter fazem, sem os malabarismos exigidos pela funcionalidade limitada da sintaxe `lambda``\n",
    " do Python."
   ]
  },
  {
   "cell_type": "code",
   "execution_count": 5,
   "id": "963e4a67-eb6a-43b5-8382-377dbaa657c3",
   "metadata": {},
   "outputs": [
    {
     "data": {
      "text/plain": [
       "[162, 163, 165, 8364, 164]"
      ]
     },
     "execution_count": 5,
     "metadata": {},
     "output_type": "execute_result"
    }
   ],
   "source": [
    "symbols = '$¢£¥€¤'\n",
    "beyond_ascii = list(filter(lambda code: code > 127, map(ord, symbols)))\n",
    "beyond_ascii"
   ]
  },
  {
   "cell_type": "code",
   "execution_count": 6,
   "id": "a352d910-9b77-45da-87ac-53581f5739dd",
   "metadata": {},
   "outputs": [
    {
     "data": {
      "text/plain": [
       "[162, 163, 165, 8364, 164]"
      ]
     },
     "execution_count": 6,
     "metadata": {},
     "output_type": "execute_result"
    }
   ],
   "source": [
    "beyond_ascii = [ord(s) for s in symbols if ord(s) > 127]\n",
    "beyond_ascii"
   ]
  },
  {
   "cell_type": "markdown",
   "id": "380ff675-1768-48a1-802b-fc65fa3e6124",
   "metadata": {},
   "source": [
    "Micro-otimização com o operador [morsa](https://pt.wikipedia.org/wiki/Morsa), para evitar uma chamada a `ord(s)`:"
   ]
  },
  {
   "cell_type": "code",
   "execution_count": 7,
   "id": "3f2680fc-dab1-46c9-ae1c-a913d66c76d7",
   "metadata": {},
   "outputs": [
    {
     "data": {
      "text/plain": [
       "[162, 163, 165, 8364, 164]"
      ]
     },
     "execution_count": 7,
     "metadata": {},
     "output_type": "execute_result"
    }
   ],
   "source": [
    "beyond_ascii = [code for s in symbols if (code := ord(s)) > 127]\n",
    "beyond_ascii"
   ]
  },
  {
   "cell_type": "markdown",
   "id": "e79d88f5-4977-4aeb-87d0-5b4ab2cddacc",
   "metadata": {},
   "source": [
    "### 2.3.3. Produtos cartesianos\n",
    "\n",
    "Figura: https://pythonfluente.com/#cartesian_product_sec"
   ]
  },
  {
   "cell_type": "code",
   "execution_count": 8,
   "id": "43b5ef81-5580-43c2-b49b-e79b3e2e822b",
   "metadata": {},
   "outputs": [
    {
     "data": {
      "text/plain": [
       "[('black', 'S'),\n",
       " ('black', 'M'),\n",
       " ('black', 'L'),\n",
       " ('white', 'S'),\n",
       " ('white', 'M'),\n",
       " ('white', 'L')]"
      ]
     },
     "execution_count": 8,
     "metadata": {},
     "output_type": "execute_result"
    }
   ],
   "source": [
    "colors = ['black', 'white']\n",
    "sizes = ['S', 'M', 'L']\n",
    "\n",
    "tshirts = []\n",
    "for color in colors:\n",
    "    for size in sizes:\n",
    "        tshirts.append((color, size))\n",
    "tshirts"
   ]
  },
  {
   "cell_type": "code",
   "execution_count": 9,
   "id": "b26185b6-8d86-498a-8a07-22d858a69648",
   "metadata": {},
   "outputs": [
    {
     "data": {
      "text/plain": [
       "[('black', 'S'),\n",
       " ('black', 'M'),\n",
       " ('black', 'L'),\n",
       " ('white', 'S'),\n",
       " ('white', 'M'),\n",
       " ('white', 'L')]"
      ]
     },
     "execution_count": 9,
     "metadata": {},
     "output_type": "execute_result"
    }
   ],
   "source": [
    "tshirts = [(color, size) for color in colors for size in sizes]\n",
    "tshirts"
   ]
  },
  {
   "cell_type": "markdown",
   "id": "90a975ae-fd02-4fa8-a6e2-3cf02922dd30",
   "metadata": {},
   "source": [
    "Ordenando por tamanho em vez de cor:"
   ]
  },
  {
   "cell_type": "code",
   "execution_count": 10,
   "id": "c1a0dffc-b0ca-4043-9273-ff6443364be8",
   "metadata": {},
   "outputs": [
    {
     "data": {
      "text/plain": [
       "[('black', 'S'),\n",
       " ('white', 'S'),\n",
       " ('black', 'M'),\n",
       " ('white', 'M'),\n",
       " ('black', 'L'),\n",
       " ('white', 'L')]"
      ]
     },
     "execution_count": 10,
     "metadata": {},
     "output_type": "execute_result"
    }
   ],
   "source": [
    "tshirts = [(color, size) for size in sizes for color in colors]\n",
    "tshirts"
   ]
  },
  {
   "cell_type": "markdown",
   "id": "272419fe-f6f9-4525-ad90-4e1195679b9e",
   "metadata": {},
   "source": [
    "#### Exemplo\n",
    "\n",
    "Exemplo inspirado no método `FrenchDeck.__init__`, gerando todas as combinações de naipe e valor:"
   ]
  },
  {
   "cell_type": "code",
   "execution_count": 11,
   "id": "9c632b51-e748-48c8-bee1-13f8ebb36e7b",
   "metadata": {},
   "outputs": [
    {
     "data": {
      "text/plain": [
       "[' 2 ♠',\n",
       " ' 3 ♠',\n",
       " ' 4 ♠',\n",
       " ' 5 ♠',\n",
       " ' 6 ♠',\n",
       " ' 7 ♠',\n",
       " ' 8 ♠',\n",
       " ' 9 ♠',\n",
       " '10 ♠',\n",
       " ' J ♠',\n",
       " ' Q ♠',\n",
       " ' K ♠',\n",
       " ' A ♠',\n",
       " ' 2 ♢',\n",
       " ' 3 ♢',\n",
       " ' 4 ♢',\n",
       " ' 5 ♢',\n",
       " ' 6 ♢',\n",
       " ' 7 ♢',\n",
       " ' 8 ♢',\n",
       " ' 9 ♢',\n",
       " '10 ♢',\n",
       " ' J ♢',\n",
       " ' Q ♢',\n",
       " ' K ♢',\n",
       " ' A ♢',\n",
       " ' 2 ♣',\n",
       " ' 3 ♣',\n",
       " ' 4 ♣',\n",
       " ' 5 ♣',\n",
       " ' 6 ♣',\n",
       " ' 7 ♣',\n",
       " ' 8 ♣',\n",
       " ' 9 ♣',\n",
       " '10 ♣',\n",
       " ' J ♣',\n",
       " ' Q ♣',\n",
       " ' K ♣',\n",
       " ' A ♣',\n",
       " ' 2 ♡',\n",
       " ' 3 ♡',\n",
       " ' 4 ♡',\n",
       " ' 5 ♡',\n",
       " ' 6 ♡',\n",
       " ' 7 ♡',\n",
       " ' 8 ♡',\n",
       " ' 9 ♡',\n",
       " '10 ♡',\n",
       " ' J ♡',\n",
       " ' Q ♡',\n",
       " ' K ♡',\n",
       " ' A ♡']"
      ]
     },
     "execution_count": 11,
     "metadata": {},
     "output_type": "execute_result"
    }
   ],
   "source": [
    "ranks = [str(n) for n in range(2, 11)] + list('JQKA')\n",
    "suits = '\\N{BLACK SPADE SUIT} \\N{WHITE DIAMOND SUIT} \\N{BLACK CLUB SUIT} \\N{WHITE HEART SUIT}'.split()\n",
    "\n",
    "cards = [f'{rank:>2} {suit}' for suit in suits\n",
    "                      for rank in ranks]\n",
    "cards"
   ]
  }
 ],
 "metadata": {
  "kernelspec": {
   "display_name": "Python 3 (ipykernel)",
   "language": "python",
   "name": "python3"
  },
  "language_info": {
   "codemirror_mode": {
    "name": "ipython",
    "version": 3
   },
   "file_extension": ".py",
   "mimetype": "text/x-python",
   "name": "python",
   "nbconvert_exporter": "python",
   "pygments_lexer": "ipython3",
   "version": "3.12.2"
  }
 },
 "nbformat": 4,
 "nbformat_minor": 5
}

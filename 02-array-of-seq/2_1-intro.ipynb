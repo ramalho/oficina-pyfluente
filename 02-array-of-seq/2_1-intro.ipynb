{
 "cells": [
  {
   "cell_type": "markdown",
   "id": "bca6562d-e06c-4c8c-a43a-7e7e37ea3a9f",
   "metadata": {},
   "source": [
    "# 2. Uma coleção de sequências"
   ]
  },
  {
   "cell_type": "markdown",
   "id": "50b4fae2-1608-44c7-91d3-20f9cbb9c513",
   "metadata": {},
   "source": [
    "## 2.2. Visão geral das sequências embutidas\n",
    "\n",
    "* **Sequências mutáveis**, exemplos: `list`, `bytearray`, `array.array`, `collections.deque`.\n",
    "\n",
    "* **Sequências imutáveis**, exemplos: `tuple`, `str`, `bytes`.\n",
    "\n",
    "<img src=\"flpy_0202.png\" width=660 />"
   ]
  },
  {
   "cell_type": "markdown",
   "id": "a0a0ab04-0538-4e12-9515-884630ab50c1",
   "metadata": {},
   "source": [
    "Outra forma de agrupar sequências é considerar sua disposição na memória:\n",
    "\n",
    "* **Sequências contêiner**: armazenam itens de tipos diferentes, incluindo contêineres aninhados e objetos de qualquer tipo. Exemplos: `list`, `tuple`, e `collections.deque`.\n",
    "\n",
    "* **Sequências planas**: armazenam itens de algum tipo simples, mas não outras coleções ou referências a objetos. Alguns exemplos: `str`, `bytes`, e `array.array`.\n",
    "\n",
    "<img src=\"flpy_0201.png\" width=660 />\n",
    "\n",
    ">  Diagramas de memória simplificados mostrando uma tupla e um array, cada uma com três itens. As células em azul representam o cabeçalho de cada objeto Python na memória. A tupla contem um array de referências para seus itens. Cada item é um objeto Python separado, possivelmente contendo também referências aninhadas a outros objetos Python, como aquela lista de dois itens. Por outro lado, uma instância de `array.array` em Python é um único objeto, contendo um array compacto com três números de ponto flutuante em uma área contígua de memória, como um array na linguagem C."
   ]
  },
  {
   "cell_type": "code",
   "execution_count": 1,
   "id": "044dc238-4c1d-4615-a7c8-8a651f87c95d",
   "metadata": {},
   "outputs": [
    {
     "name": "stdout",
     "output_type": "stream",
     "text": [
      "71\n",
      "97\n",
      "114\n",
      "111\n",
      "97\n"
     ]
    }
   ],
   "source": [
    "for b in b'Garoa': print(b)"
   ]
  },
  {
   "cell_type": "markdown",
   "id": "7a420b04-bd3f-42c6-887a-f2a594565538",
   "metadata": {},
   "source": [
    "## [2.3. Compreensões de listas e expressões geradoras 👉](2_3-listcomp.ipynb)\n",
    "\n",
    "## [2.4. Tuplas não são apenas listas imutáveis 👉](2_4-tuplas.ipynb)"
   ]
  },
  {
   "cell_type": "markdown",
   "id": "5b966d9c-fc5e-42c0-a448-c742bff7e93d",
   "metadata": {},
   "source": [
    "## 2.5. Desempacotando sequências e iteráveis\n",
    "\n",
    "Atribuição paralela: dois ou mais destinos em uma atribuição:"
   ]
  },
  {
   "cell_type": "code",
   "execution_count": 1,
   "id": "82109422-a7ff-4bf1-a983-e0aea77bf7c4",
   "metadata": {},
   "outputs": [],
   "source": [
    "lax_coordinates = (33.9425, -118.408056)\n",
    "latitude, longitude = lax_coordinates"
   ]
  },
  {
   "cell_type": "code",
   "execution_count": 2,
   "id": "69315bb0-78de-4274-83e4-3b96603edd08",
   "metadata": {},
   "outputs": [
    {
     "data": {
      "text/plain": [
       "33.9425"
      ]
     },
     "execution_count": 2,
     "metadata": {},
     "output_type": "execute_result"
    }
   ],
   "source": [
    "latitude"
   ]
  },
  {
   "cell_type": "code",
   "execution_count": 3,
   "id": "a48e7402-caf5-4072-b6d5-4ba91cea436a",
   "metadata": {},
   "outputs": [
    {
     "data": {
      "text/plain": [
       "-118.408056"
      ]
     },
     "execution_count": 3,
     "metadata": {},
     "output_type": "execute_result"
    }
   ],
   "source": [
    "longitude"
   ]
  },
  {
   "cell_type": "markdown",
   "id": "d3bfb503-5cb3-474e-8ba3-20895ba06b33",
   "metadata": {},
   "source": [
    "Permutar valores sem usar variável temporária: \n",
    "\n",
    "```python\n",
    "x, y = y, x\n",
    "```\n",
    "\n",
    "Exemplo:"
   ]
  },
  {
   "cell_type": "code",
   "execution_count": 5,
   "id": "c87aec19-95e5-4bad-bb01-64ca5edde030",
   "metadata": {},
   "outputs": [
    {
     "name": "stdout",
     "output_type": "stream",
     "text": [
      "  10\t                                                                                                  55\n",
      "  20\t                                                                                               6_765\n",
      "  30\t                                                                                             832_040\n",
      "  40\t                                                                                         102_334_155\n",
      "  50\t                                                                                      12_586_269_025\n",
      "  60\t                                                                                   1_548_008_755_920\n",
      "  70\t                                                                                 190_392_490_709_135\n",
      "  80\t                                                                              23_416_728_348_467_685\n",
      "  90\t                                                                           2_880_067_194_370_816_120\n",
      " 100\t                                                                         354_224_848_179_261_915_075\n",
      " 110\t                                                                      43_566_776_258_854_844_738_105\n",
      " 120\t                                                                   5_358_359_254_990_966_640_871_840\n",
      " 130\t                                                                 659_034_621_587_630_041_982_498_215\n",
      " 140\t                                                              81_055_900_096_023_504_197_206_408_605\n",
      " 150\t                                                           9_969_216_677_189_303_386_214_405_760_200\n",
      " 160\t                                                       1_226_132_595_394_188_293_000_174_702_095_995\n",
      " 170\t                                                     150_804_340_016_807_970_735_635_273_952_047_185\n",
      " 180\t                                                  18_547_707_689_471_986_212_190_138_521_399_707_760\n",
      " 190\t                                               2_281_217_241_465_037_496_128_651_402_858_212_007_295\n",
      " 200\t                                             280_571_172_992_510_140_037_611_932_413_038_677_189_525\n",
      " 210\t                                          34_507_973_060_837_282_187_130_139_035_400_899_082_304_280\n",
      " 220\t                                       4_244_200_115_309_993_198_876_969_489_421_897_548_446_236_915\n",
      " 230\t                                     522_002_106_210_068_326_179_680_117_059_857_997_559_804_836_265\n",
      " 240\t                                  64_202_014_863_723_094_126_901_777_428_873_111_802_307_548_623_680\n",
      " 250\t                               7_896_325_826_131_730_509_282_738_943_634_332_893_686_268_675_876_375\n",
      " 260\t                             971_183_874_599_339_129_547_649_988_289_594_072_811_608_739_584_170_445\n",
      " 270\t                         119_447_720_249_892_581_203_851_665_820_676_436_622_934_188_700_177_088_360\n",
      " 280\t                      14_691_098_406_862_188_148_944_207_245_954_912_110_548_093_601_382_197_697_835\n",
      " 290\t                   1_806_885_656_323_799_249_738_933_639_586_633_513_160_792_578_781_310_139_745_345\n",
      " 300\t                 222_232_244_629_420_445_529_739_893_461_909_967_206_666_939_096_499_764_990_979_600\n",
      " 310\t              27_332_759_203_762_391_000_908_267_962_175_339_332_906_872_716_290_689_783_750_745_455\n",
      " 320\t           3_361_707_149_818_144_672_666_187_219_454_104_827_980_338_677_164_658_343_636_350_711_365\n",
      " 330\t         413_462_646_668_428_032_346_940_119_724_892_718_502_248_750_418_536_685_577_487_386_752_440\n",
      " 340\t      50_852_543_833_066_829_834_000_968_538_942_350_270_948_615_962_802_847_667_687_312_219_838_755\n",
      " 350\t   6_254_449_428_820_551_641_549_772_190_170_184_190_608_177_514_674_331_726_439_961_915_653_414_425\n",
      " 360\t 769_246_427_201_094_785_080_787_978_422_393_713_094_534_885_688_979_999_504_447_628_313_150_135_520\n",
      " 370\t94_611_056_096_305_838_013_295_371_573_764_256_526_437_182_762_229_865_607_320_618_320_601_813_254_535\n",
      " 380\t11_636_390_653_418_416_980_850_249_915_594_581_159_038_678_944_868_584_489_700_931_605_805_709_880_172_285\n",
      " 390\t1_431_181_439_314_368_982_806_567_444_246_559_718_305_231_073_036_073_662_367_607_266_895_781_713_447_936_520\n",
      " 400\t176_023_680_645_013_966_468_226_945_392_411_250_770_384_383_304_492_191_886_725_992_896_575_345_044_216_019_675\n"
     ]
    }
   ],
   "source": [
    "def fibonacci(n):\n",
    "    a, b = 0, 1\n",
    "    for i in range(0, n):\n",
    "        a, b = b, a + b\n",
    "    return a\n",
    "\n",
    "for n in range(10, 401, 10):\n",
    "    print(f'{n:4}\\t{fibonacci(n):>100_}')"
   ]
  },
  {
   "cell_type": "markdown",
   "id": "51c58495-709f-4ccc-a1c2-94b7c72d0025",
   "metadata": {},
   "source": [
    "## 2.5.1. Usando * para recolher itens em excesso\n",
    "\n",
    "Definir parâmetros de função com `*args` para capturar argumentos arbitrários em excesso é um recurso clássico do Python."
   ]
  },
  {
   "cell_type": "code",
   "execution_count": 5,
   "id": "ea733c56-4670-4c29-b317-e4f9b66309ae",
   "metadata": {},
   "outputs": [
    {
     "data": {
      "text/plain": [
       "(1, ())"
      ]
     },
     "execution_count": 5,
     "metadata": {},
     "output_type": "execute_result"
    }
   ],
   "source": [
    "def f(a, *resto):\n",
    "    return a, resto\n",
    "\n",
    "f(1)"
   ]
  },
  {
   "cell_type": "code",
   "execution_count": 6,
   "id": "af067a78-3a11-4450-925f-5de2fc436884",
   "metadata": {},
   "outputs": [
    {
     "data": {
      "text/plain": [
       "(1, (2,))"
      ]
     },
     "execution_count": 6,
     "metadata": {},
     "output_type": "execute_result"
    }
   ],
   "source": [
    "f(1, 2)"
   ]
  },
  {
   "cell_type": "code",
   "execution_count": 7,
   "id": "5cc24857-f686-4e10-b647-15ba69411ff3",
   "metadata": {},
   "outputs": [
    {
     "data": {
      "text/plain": [
       "(1, (2, 3))"
      ]
     },
     "execution_count": 7,
     "metadata": {},
     "output_type": "execute_result"
    }
   ],
   "source": [
    "f(1, 2, 3)"
   ]
  },
  {
   "cell_type": "markdown",
   "id": "7a5a5a25-d796-43b8-9b8b-14cdd6cf8c49",
   "metadata": {},
   "source": [
    "No Python 3, essa ideia foi estendida para se aplicar também à atribuição paralela:"
   ]
  },
  {
   "cell_type": "code",
   "execution_count": 8,
   "id": "eb069089-a8eb-4d99-aaaa-b074eefecfe4",
   "metadata": {},
   "outputs": [
    {
     "data": {
      "text/plain": [
       "(0, 1, [])"
      ]
     },
     "execution_count": 8,
     "metadata": {},
     "output_type": "execute_result"
    }
   ],
   "source": [
    "a, b, *rest = range(2)\n",
    "a, b, rest"
   ]
  },
  {
   "cell_type": "code",
   "execution_count": 9,
   "id": "cfec33cc-78cd-4b7e-83b5-8442d4d9d354",
   "metadata": {},
   "outputs": [
    {
     "data": {
      "text/plain": [
       "(0, 1, [2])"
      ]
     },
     "execution_count": 9,
     "metadata": {},
     "output_type": "execute_result"
    }
   ],
   "source": [
    "a, b, *rest = range(3)\n",
    "a, b, rest"
   ]
  },
  {
   "cell_type": "code",
   "execution_count": 6,
   "id": "21914fcc-e396-46c8-b756-a8e4e5feba0f",
   "metadata": {},
   "outputs": [
    {
     "data": {
      "text/plain": [
       "(1, 2, [3, 4, 5, 6])"
      ]
     },
     "execution_count": 6,
     "metadata": {},
     "output_type": "execute_result"
    }
   ],
   "source": [
    "treco = [1, 2, 3, 4, 5, 6]\n",
    "a, b, *rest = treco\n",
    "a, b, rest"
   ]
  },
  {
   "cell_type": "markdown",
   "id": "92952b2d-e735-4ea5-b340-92a44b95be43",
   "metadata": {},
   "source": [
    "No contexto da atribuição paralela, o prefixo * pode ser aplicado a exatamente uma variável, mas pode aparecer em qualquer posição:"
   ]
  },
  {
   "cell_type": "code",
   "execution_count": 11,
   "id": "df53049a-ea83-4b8c-ab31-e10883849bce",
   "metadata": {},
   "outputs": [
    {
     "data": {
      "text/plain": [
       "(0, [1, 2], 3, 4)"
      ]
     },
     "execution_count": 11,
     "metadata": {},
     "output_type": "execute_result"
    }
   ],
   "source": [
    "a, *body, c, d = range(5)\n",
    "a, body, c, d"
   ]
  },
  {
   "cell_type": "code",
   "execution_count": 12,
   "id": "89d79500-646d-4257-95f5-a1a54471218e",
   "metadata": {},
   "outputs": [
    {
     "data": {
      "text/plain": [
       "([0, 1], 2, 3, 4)"
      ]
     },
     "execution_count": 12,
     "metadata": {},
     "output_type": "execute_result"
    }
   ],
   "source": [
    "*head, b, c, d = range(5)\n",
    "head, b, c, d"
   ]
  },
  {
   "cell_type": "code",
   "execution_count": 10,
   "id": "d05107f3-445c-40b2-86e8-f49d55362b42",
   "metadata": {},
   "outputs": [
    {
     "data": {
      "text/plain": [
       "([0, 1], 2, 3, 4)"
      ]
     },
     "execution_count": 10,
     "metadata": {},
     "output_type": "execute_result"
    }
   ],
   "source": [
    "l = list(range(5))\n",
    "b, c, d = l[-3:]\n",
    "head = l[:-3]\n",
    "head, b, c, d"
   ]
  },
  {
   "cell_type": "markdown",
   "id": "1bd04e01-8ac3-47a7-9ca4-220e1ea14956",
   "metadata": {},
   "source": [
    "## [2.6. Pattern matching com sequências 👉](2_6-match.ipynb)\n",
    "\n",
    "## 2.7. Fatiamento\n",
    "\n",
    "## 2.8. Usando + e * com sequências\n",
    "\n",
    "## 2.9. list.sort versus a função embutida sorted\n",
    "\n",
    "## 2.10. Quando uma lista não é a resposta\n",
    "\n",
    "Muitos Pythonistas (eu inclusive) tendem a usar `list` por preguiça, mas dependendo do caso há opções com desempenho melhor.\n",
    "\n",
    "> **Dica**: veja também `set` [no livro](https://pythonfluente.com/#_teoria_dos_conjuntos). Um `set` é uma coleção de itens, mas não é uma sequência porque os itens não ficam ordenados, não existe `s[i]` porque `set` não implementa `__getitem__`. Mas `n in meu_conjunto` é muito mais eficiente do que `n in minha_lista`.\n",
    "\n",
    "### 2.10.1. Arrays\n",
    "\n",
    "No livro: https://pythonfluente.com/#arrays_sec\n",
    "\n",
    "### 2.10.2. Views de memória\n",
    "\n",
    "No livro: https://pythonfluente.com/#memoryview_sec\n",
    "\n",
    "### 2.10.3. NumPy\n",
    "\n",
    "No livro: https://pythonfluente.com/#numpy_sec\n",
    "\n",
    "### 2.10.4. Deques e outras filas\n",
    "\n",
    "No livro: https://pythonfluente.com/#_deques_e_outras_filas"
   ]
  }
 ],
 "metadata": {
  "kernelspec": {
   "display_name": "Python 3 (ipykernel)",
   "language": "python",
   "name": "python3"
  },
  "language_info": {
   "codemirror_mode": {
    "name": "ipython",
    "version": 3
   },
   "file_extension": ".py",
   "mimetype": "text/x-python",
   "name": "python",
   "nbconvert_exporter": "python",
   "pygments_lexer": "ipython3",
   "version": "3.12.3"
  }
 },
 "nbformat": 4,
 "nbformat_minor": 5
}

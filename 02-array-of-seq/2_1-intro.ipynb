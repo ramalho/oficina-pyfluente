{
 "cells": [
  {
   "cell_type": "markdown",
   "id": "d10f0415-e6ba-492d-bacd-67b3cee03f45",
   "metadata": {},
   "source": [
    "# 2. Uma coleção de sequências"
   ]
  },
  {
   "cell_type": "markdown",
   "id": "50b4fae2-1608-44c7-91d3-20f9cbb9c513",
   "metadata": {},
   "source": [
    "## 2.2. Visão geral das sequências embutidas\n",
    "\n",
    "* **Sequências mutáveis**, exemplos: `list`, `bytearray`, `array.array`, `collections.deque`.\n",
    "\n",
    "* **Sequências imutáveis**, exemplos: `tuple`, `str`, `bytes`.\n",
    "\n",
    "<img src=\"flpy_0202.png\" width=660 />"
   ]
  },
  {
   "cell_type": "markdown",
   "id": "a0a0ab04-0538-4e12-9515-884630ab50c1",
   "metadata": {},
   "source": [
    "Outra forma de agrupar sequências é considerar sua disposição na memória:\n",
    "\n",
    "* **Sequências contêiner**: armazenam itens de tipos diferentes, incluindo contêineres aninhados e objetos de qualquer tipo. Exemplos: `list`, `tuple`, e `collections.deque`.\n",
    "\n",
    "* **Sequências planas**: armazenam itens de algum tipo simples, mas não outras coleções ou referências a objetos. Alguns exemplos: `str`, `bytes`, e `array.array`.\n",
    "\n",
    "<img src=\"flpy_0201.png\" width=660 />\n",
    "\n",
    ">  Diagramas de memória simplificados mostrando uma tupla e um array, cada uma com três itens. As células em azul representam o cabeçalho de cada objeto Python na memória. A tupla contem um array de referências para seus itens. Cada item é um objeto Python separado, possivelmente contendo também referências aninhadas a outros objetos Python, como aquela lista de dois itens. Por outro lado, uma instância de `array.array` em Python é um único objeto, contendo um array compacto com três números de ponto flutuante em uma área contígua de memória, como um array na linguagem C."
   ]
  },
  {
   "cell_type": "markdown",
   "id": "7a420b04-bd3f-42c6-887a-f2a594565538",
   "metadata": {},
   "source": [
    "## [2.3. Compreensões de listas e expressões geradoras 👉](2_3-listcomp.ipynb)\n",
    "\n",
    "## [2.4. Tuplas não são apenas listas imutáveis 👉](2_4-tuplas.ipynb)"
   ]
  },
  {
   "cell_type": "markdown",
   "id": "5b966d9c-fc5e-42c0-a448-c742bff7e93d",
   "metadata": {},
   "source": [
    "## 2.5. Desempacotando sequências e iteráveis\n",
    "\n",
    "Atribuição paralela: dois ou mais destinos em uma atribuição:"
   ]
  },
  {
   "cell_type": "code",
   "execution_count": 1,
   "id": "82109422-a7ff-4bf1-a983-e0aea77bf7c4",
   "metadata": {},
   "outputs": [],
   "source": [
    "lax_coordinates = (33.9425, -118.408056)\n",
    "latitude, longitude = lax_coordinates"
   ]
  },
  {
   "cell_type": "code",
   "execution_count": 2,
   "id": "69315bb0-78de-4274-83e4-3b96603edd08",
   "metadata": {},
   "outputs": [
    {
     "data": {
      "text/plain": [
       "33.9425"
      ]
     },
     "execution_count": 2,
     "metadata": {},
     "output_type": "execute_result"
    }
   ],
   "source": [
    "latitude"
   ]
  },
  {
   "cell_type": "code",
   "execution_count": 3,
   "id": "a48e7402-caf5-4072-b6d5-4ba91cea436a",
   "metadata": {},
   "outputs": [
    {
     "data": {
      "text/plain": [
       "-118.408056"
      ]
     },
     "execution_count": 3,
     "metadata": {},
     "output_type": "execute_result"
    }
   ],
   "source": [
    "longitude"
   ]
  },
  {
   "cell_type": "markdown",
   "id": "d3bfb503-5cb3-474e-8ba3-20895ba06b33",
   "metadata": {},
   "source": [
    "Permutar valores sem usar variável temporária: \n",
    "\n",
    "```python\n",
    "x, y = y, x\n",
    "```\n",
    "\n",
    "Exemplo:"
   ]
  },
  {
   "cell_type": "code",
   "execution_count": 4,
   "id": "c87aec19-95e5-4bad-bb01-64ca5edde030",
   "metadata": {},
   "outputs": [
    {
     "name": "stdout",
     "output_type": "stream",
     "text": [
      "  10\t                            55\n",
      "  20\t                         6_765\n",
      "  30\t                       832_040\n",
      "  40\t                   102_334_155\n",
      "  50\t                12_586_269_025\n",
      "  60\t             1_548_008_755_920\n",
      "  70\t           190_392_490_709_135\n",
      "  80\t        23_416_728_348_467_685\n",
      "  90\t     2_880_067_194_370_816_120\n",
      " 100\t   354_224_848_179_261_915_075\n"
     ]
    }
   ],
   "source": [
    "def fibonacci(n):\n",
    "    a, b = 0, 1\n",
    "    for i in range(0, n):\n",
    "        a, b = b, a + b\n",
    "    return a\n",
    "\n",
    "for n in range(10, 101, 10):\n",
    "    print(f'{n:4}\\t{fibonacci(n):>30_}')"
   ]
  },
  {
   "cell_type": "markdown",
   "id": "1bd04e01-8ac3-47a7-9ca4-220e1ea14956",
   "metadata": {},
   "source": [
    "## [2.6. Pattern matching com sequências 👉](2_6-match.ipynb)\n",
    "\n",
    "## 2.7. Fatiamento\n",
    "\n",
    "## 2.8. Usando + e * com sequências\n",
    "\n",
    "## 2.9. list.sort versus a função embutida sorted\n",
    "\n",
    "## 2.10. Quando uma lista não é a resposta\n",
    "\n",
    "Muitos Pythonistas (eu inclusive) tendem a usar `list` por preguiça, mas dependendo do caso há opções com desempenho melhor.\n",
    "\n",
    "> **Dica**: veja também `set` [no livro](https://pythonfluente.com/#_teoria_dos_conjuntos). Um `set` é uma coleção de itens, mas não é uma sequência porque os itens não ficam ordenados, não existe `s[i]` porque `set` não implementa `__getitem__`. Mas `n in meu_conjunto` é muito mais eficiente do que `n in minha_lista`.\n",
    "\n",
    "### 2.10.1. Arrays\n",
    "\n",
    "No livro: https://pythonfluente.com/#arrays_sec\n",
    "\n",
    "### 2.10.2. Views de memória\n",
    "\n",
    "No livro: https://pythonfluente.com/#memoryview_sec\n",
    "\n",
    "### 2.10.3. NumPy\n",
    "\n",
    "No livro: https://pythonfluente.com/#numpy_sec\n",
    "\n",
    "### 2.10.4. Deques e outras filas\n",
    "\n",
    "No livro: https://pythonfluente.com/#_deques_e_outras_filas"
   ]
  },
  {
   "cell_type": "code",
   "execution_count": null,
   "id": "6830331d-4cb8-4b73-9522-2746babfdd2e",
   "metadata": {},
   "outputs": [],
   "source": []
  }
 ],
 "metadata": {
  "kernelspec": {
   "display_name": "Python 3 (ipykernel)",
   "language": "python",
   "name": "python3"
  },
  "language_info": {
   "codemirror_mode": {
    "name": "ipython",
    "version": 3
   },
   "file_extension": ".py",
   "mimetype": "text/x-python",
   "name": "python",
   "nbconvert_exporter": "python",
   "pygments_lexer": "ipython3",
   "version": "3.12.4"
  }
 },
 "nbformat": 4,
 "nbformat_minor": 5
}

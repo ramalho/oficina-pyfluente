{
 "cells": [
  {
   "cell_type": "markdown",
   "id": "a35e1f64-10e6-4c5e-a8d9-4d9ce8e7d407",
   "metadata": {},
   "source": [
    "# 2.4. Tuplas não são apenas listas imutáveis\n",
    "\n",
    "## 2.4.1. Tuplas como registros"
   ]
  },
  {
   "cell_type": "code",
   "execution_count": 5,
   "id": "51c42306-73cd-4ce9-be60-11a14db191bf",
   "metadata": {},
   "outputs": [],
   "source": [
    "lax_coordinates = (33.9425, -118.408056)\n",
    "city, year, pop, chg, area = ('Tokyo', 2003, 32_450, 0.66, 8014)"
   ]
  },
  {
   "cell_type": "code",
   "execution_count": 7,
   "id": "f877115d-dd3f-4326-b961-febd87f93208",
   "metadata": {},
   "outputs": [
    {
     "name": "stdout",
     "output_type": "stream",
     "text": [
      "BRA/CE342567\n",
      "ESP/XDA205856\n",
      "USA/31195855\n"
     ]
    }
   ],
   "source": [
    "passports = [('USA', '31195855'), ('BRA', 'CE342567'), ('ESP', 'XDA205856')]\n",
    "for passport in sorted(passports):\n",
    "    print('%s/%s' % passport)"
   ]
  },
  {
   "cell_type": "code",
   "execution_count": 4,
   "id": "689af60b-153e-435d-a8a2-44e8d536954d",
   "metadata": {},
   "outputs": [
    {
     "data": {
      "text/plain": [
       "(2, 3)"
      ]
     },
     "execution_count": 4,
     "metadata": {},
     "output_type": "execute_result"
    }
   ],
   "source": [
    "x = divmod(11, 4)\n",
    "x"
   ]
  },
  {
   "cell_type": "markdown",
   "id": "4e93b0aa-b966-4da4-9c97-8ff5cebc332c",
   "metadata": {},
   "source": [
    "## 2.4.2. Tuplas como listas imutáveis\n",
    "\n",
    "A imutabilidade de uma tupla só se aplica às referências nela contidas. Referências em uma tupla não podem ser apagadas ou substituídas.\n",
    "\n",
    "Mas se uma daquelas referências apontar para um objeto mutável, e aquele objeto mudar, então o valor da tupla muda.\n",
    "\n",
    "O próximo trecho de código ilustra esse fato criando duas tuplas—`a` e `b`— que inicialmente tem valores iguais."
   ]
  },
  {
   "cell_type": "code",
   "execution_count": 8,
   "id": "8cbfd795-2366-4fb9-abe1-ca49ebfd4697",
   "metadata": {},
   "outputs": [
    {
     "data": {
      "text/plain": [
       "True"
      ]
     },
     "execution_count": 8,
     "metadata": {},
     "output_type": "execute_result"
    }
   ],
   "source": [
    "a = (10, 'alpha', [1, 2])\n",
    "b = (10, 'alpha', [1, 2])\n",
    "a == b"
   ]
  },
  {
   "cell_type": "code",
   "execution_count": 12,
   "id": "99a3682c-4562-4d03-978d-aaf20cbc2661",
   "metadata": {},
   "outputs": [
    {
     "data": {
      "text/plain": [
       "True"
      ]
     },
     "execution_count": 12,
     "metadata": {},
     "output_type": "execute_result"
    }
   ],
   "source": [
    "c = a\n",
    "c is a"
   ]
  },
  {
   "cell_type": "code",
   "execution_count": 9,
   "id": "e82b6efd-8034-4020-b671-49e14f2f40c9",
   "metadata": {},
   "outputs": [
    {
     "data": {
      "text/plain": [
       "False"
      ]
     },
     "execution_count": 9,
     "metadata": {},
     "output_type": "execute_result"
    }
   ],
   "source": [
    "a is b"
   ]
  },
  {
   "cell_type": "code",
   "execution_count": 10,
   "id": "6939e927-508d-454c-8508-2bc397971626",
   "metadata": {},
   "outputs": [
    {
     "data": {
      "text/plain": [
       "False"
      ]
     },
     "execution_count": 10,
     "metadata": {},
     "output_type": "execute_result"
    }
   ],
   "source": [
    "b[-1].append(99)\n",
    "a == b"
   ]
  },
  {
   "cell_type": "code",
   "execution_count": 11,
   "id": "c7ed0c45-79e1-42ef-9543-678a43900d4a",
   "metadata": {},
   "outputs": [
    {
     "data": {
      "text/plain": [
       "(10, 'alpha', [1, 2, 99])"
      ]
     },
     "execution_count": 11,
     "metadata": {},
     "output_type": "execute_result"
    }
   ],
   "source": [
    "b"
   ]
  },
  {
   "cell_type": "markdown",
   "id": "9ea6ff33-5291-40b4-96f8-a2330118c314",
   "metadata": {},
   "source": [
    "Esta figura representa a disposição inicial da tupla `b` na memória:\n",
    "\n",
    "<img src=\"flpy_0204.png\" width=660 />\n",
    "\n",
    "> O conteúdo diretamente armazenado na tupla é imutável, mas isso significa apenas que as referências contidas na tupla apontarão sempre para os mesmos objetos. Entretanto, se um dos objetos referenciados for mutável—uma lista, por exemplo—seu conteúdo pode mudar."
   ]
  },
  {
   "cell_type": "code",
   "execution_count": 16,
   "id": "b6562eb4-1bbe-46d7-b910-7082a0954df9",
   "metadata": {},
   "outputs": [
    {
     "data": {
      "text/plain": [
       "([1, 2], [1, 2])"
      ]
     },
     "execution_count": 16,
     "metadata": {},
     "output_type": "execute_result"
    }
   ],
   "source": [
    "a = [1]\n",
    "b = a\n",
    "b += [2]\n",
    "a, b"
   ]
  },
  {
   "cell_type": "markdown",
   "id": "95710b5f-e370-4733-b408-47a93d4071a0",
   "metadata": {},
   "source": [
    "## 2.4.3. Comparando os métodos de tuplas e listas\n",
    "\n",
    "No livro: https://pythonfluente.com/#_comparando_os_m%C3%A9todos_de_tuplas_e_listas"
   ]
  }
 ],
 "metadata": {
  "kernelspec": {
   "display_name": "Python 3 (ipykernel)",
   "language": "python",
   "name": "python3"
  },
  "language_info": {
   "codemirror_mode": {
    "name": "ipython",
    "version": 3
   },
   "file_extension": ".py",
   "mimetype": "text/x-python",
   "name": "python",
   "nbconvert_exporter": "python",
   "pygments_lexer": "ipython3",
   "version": "3.12.3"
  }
 },
 "nbformat": 4,
 "nbformat_minor": 5
}
